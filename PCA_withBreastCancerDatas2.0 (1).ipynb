{
 "cells": [
  {
   "cell_type": "markdown",
   "metadata": {},
   "source": [
    "# Principal Component Analysis (CPA) 2.0"
   ]
  },
  {
   "cell_type": "code",
   "execution_count": 1,
   "metadata": {
    "collapsed": true
   },
   "outputs": [],
   "source": [
    "import matplotlib.pyplot as plt\n",
    "import pandas as pd\n",
    "import numpy as np\n",
    "import seaborn as sns\n",
    "%matplotlib inline"
   ]
  },
  {
   "cell_type": "code",
   "execution_count": 2,
   "metadata": {
    "collapsed": true
   },
   "outputs": [],
   "source": [
    "from sklearn.datasets import load_breast_cancer"
   ]
  },
  {
   "cell_type": "code",
   "execution_count": 3,
   "metadata": {
    "collapsed": true
   },
   "outputs": [],
   "source": [
    "cancer = load_breast_cancer()"
   ]
  },
  {
   "cell_type": "code",
   "execution_count": 4,
   "metadata": {},
   "outputs": [
    {
     "data": {
      "text/plain": [
       "dict_keys(['data', 'target', 'target_names', 'DESCR', 'feature_names'])"
      ]
     },
     "execution_count": 4,
     "metadata": {},
     "output_type": "execute_result"
    }
   ],
   "source": [
    "cancer.keys()"
   ]
  },
  {
   "cell_type": "code",
   "execution_count": 5,
   "metadata": {
    "scrolled": true
   },
   "outputs": [
    {
     "name": "stdout",
     "output_type": "stream",
     "text": [
      "Breast Cancer Wisconsin (Diagnostic) Database\n",
      "=============================================\n",
      "\n",
      "Notes\n",
      "-----\n",
      "Data Set Characteristics:\n",
      "    :Number of Instances: 569\n",
      "\n",
      "    :Number of Attributes: 30 numeric, predictive attributes and the class\n",
      "\n",
      "    :Attribute Information:\n",
      "        - radius (mean of distances from center to points on the perimeter)\n",
      "        - texture (standard deviation of gray-scale values)\n",
      "        - perimeter\n",
      "        - area\n",
      "        - smoothness (local variation in radius lengths)\n",
      "        - compactness (perimeter^2 / area - 1.0)\n",
      "        - concavity (severity of concave portions of the contour)\n",
      "        - concave points (number of concave portions of the contour)\n",
      "        - symmetry \n",
      "        - fractal dimension (\"coastline approximation\" - 1)\n",
      "\n",
      "        The mean, standard error, and \"worst\" or largest (mean of the three\n",
      "        largest values) of these features were computed for each image,\n",
      "        resulting in 30 features.  For instance, field 3 is Mean Radius, field\n",
      "        13 is Radius SE, field 23 is Worst Radius.\n",
      "\n",
      "        - class:\n",
      "                - WDBC-Malignant\n",
      "                - WDBC-Benign\n",
      "\n",
      "    :Summary Statistics:\n",
      "\n",
      "    ===================================== ====== ======\n",
      "                                           Min    Max\n",
      "    ===================================== ====== ======\n",
      "    radius (mean):                        6.981  28.11\n",
      "    texture (mean):                       9.71   39.28\n",
      "    perimeter (mean):                     43.79  188.5\n",
      "    area (mean):                          143.5  2501.0\n",
      "    smoothness (mean):                    0.053  0.163\n",
      "    compactness (mean):                   0.019  0.345\n",
      "    concavity (mean):                     0.0    0.427\n",
      "    concave points (mean):                0.0    0.201\n",
      "    symmetry (mean):                      0.106  0.304\n",
      "    fractal dimension (mean):             0.05   0.097\n",
      "    radius (standard error):              0.112  2.873\n",
      "    texture (standard error):             0.36   4.885\n",
      "    perimeter (standard error):           0.757  21.98\n",
      "    area (standard error):                6.802  542.2\n",
      "    smoothness (standard error):          0.002  0.031\n",
      "    compactness (standard error):         0.002  0.135\n",
      "    concavity (standard error):           0.0    0.396\n",
      "    concave points (standard error):      0.0    0.053\n",
      "    symmetry (standard error):            0.008  0.079\n",
      "    fractal dimension (standard error):   0.001  0.03\n",
      "    radius (worst):                       7.93   36.04\n",
      "    texture (worst):                      12.02  49.54\n",
      "    perimeter (worst):                    50.41  251.2\n",
      "    area (worst):                         185.2  4254.0\n",
      "    smoothness (worst):                   0.071  0.223\n",
      "    compactness (worst):                  0.027  1.058\n",
      "    concavity (worst):                    0.0    1.252\n",
      "    concave points (worst):               0.0    0.291\n",
      "    symmetry (worst):                     0.156  0.664\n",
      "    fractal dimension (worst):            0.055  0.208\n",
      "    ===================================== ====== ======\n",
      "\n",
      "    :Missing Attribute Values: None\n",
      "\n",
      "    :Class Distribution: 212 - Malignant, 357 - Benign\n",
      "\n",
      "    :Creator:  Dr. William H. Wolberg, W. Nick Street, Olvi L. Mangasarian\n",
      "\n",
      "    :Donor: Nick Street\n",
      "\n",
      "    :Date: November, 1995\n",
      "\n",
      "This is a copy of UCI ML Breast Cancer Wisconsin (Diagnostic) datasets.\n",
      "https://goo.gl/U2Uwz2\n",
      "\n",
      "Features are computed from a digitized image of a fine needle\n",
      "aspirate (FNA) of a breast mass.  They describe\n",
      "characteristics of the cell nuclei present in the image.\n",
      "\n",
      "Separating plane described above was obtained using\n",
      "Multisurface Method-Tree (MSM-T) [K. P. Bennett, \"Decision Tree\n",
      "Construction Via Linear Programming.\" Proceedings of the 4th\n",
      "Midwest Artificial Intelligence and Cognitive Science Society,\n",
      "pp. 97-101, 1992], a classification method which uses linear\n",
      "programming to construct a decision tree.  Relevant features\n",
      "were selected using an exhaustive search in the space of 1-4\n",
      "features and 1-3 separating planes.\n",
      "\n",
      "The actual linear program used to obtain the separating plane\n",
      "in the 3-dimensional space is that described in:\n",
      "[K. P. Bennett and O. L. Mangasarian: \"Robust Linear\n",
      "Programming Discrimination of Two Linearly Inseparable Sets\",\n",
      "Optimization Methods and Software 1, 1992, 23-34].\n",
      "\n",
      "This database is also available through the UW CS ftp server:\n",
      "\n",
      "ftp ftp.cs.wisc.edu\n",
      "cd math-prog/cpo-dataset/machine-learn/WDBC/\n",
      "\n",
      "References\n",
      "----------\n",
      "   - W.N. Street, W.H. Wolberg and O.L. Mangasarian. Nuclear feature extraction \n",
      "     for breast tumor diagnosis. IS&T/SPIE 1993 International Symposium on \n",
      "     Electronic Imaging: Science and Technology, volume 1905, pages 861-870,\n",
      "     San Jose, CA, 1993.\n",
      "   - O.L. Mangasarian, W.N. Street and W.H. Wolberg. Breast cancer diagnosis and \n",
      "     prognosis via linear programming. Operations Research, 43(4), pages 570-577, \n",
      "     July-August 1995.\n",
      "   - W.H. Wolberg, W.N. Street, and O.L. Mangasarian. Machine learning techniques\n",
      "     to diagnose breast cancer from fine-needle aspirates. Cancer Letters 77 (1994) \n",
      "     163-171.\n",
      "\n"
     ]
    }
   ],
   "source": [
    "print(cancer['DESCR'])"
   ]
  },
  {
   "cell_type": "code",
   "execution_count": 6,
   "metadata": {
    "collapsed": true
   },
   "outputs": [],
   "source": [
    "df = pd.DataFrame(cancer['data'],columns=cancer['feature_names'])"
   ]
  },
  {
   "cell_type": "code",
   "execution_count": 7,
   "metadata": {},
   "outputs": [
    {
     "data": {
      "text/html": [
       "<div>\n",
       "<style>\n",
       "    .dataframe thead tr:only-child th {\n",
       "        text-align: right;\n",
       "    }\n",
       "\n",
       "    .dataframe thead th {\n",
       "        text-align: left;\n",
       "    }\n",
       "\n",
       "    .dataframe tbody tr th {\n",
       "        vertical-align: top;\n",
       "    }\n",
       "</style>\n",
       "<table border=\"1\" class=\"dataframe\">\n",
       "  <thead>\n",
       "    <tr style=\"text-align: right;\">\n",
       "      <th></th>\n",
       "      <th>mean radius</th>\n",
       "      <th>mean texture</th>\n",
       "      <th>mean perimeter</th>\n",
       "      <th>mean area</th>\n",
       "      <th>mean smoothness</th>\n",
       "      <th>mean compactness</th>\n",
       "      <th>mean concavity</th>\n",
       "      <th>mean concave points</th>\n",
       "      <th>mean symmetry</th>\n",
       "      <th>mean fractal dimension</th>\n",
       "      <th>...</th>\n",
       "      <th>worst radius</th>\n",
       "      <th>worst texture</th>\n",
       "      <th>worst perimeter</th>\n",
       "      <th>worst area</th>\n",
       "      <th>worst smoothness</th>\n",
       "      <th>worst compactness</th>\n",
       "      <th>worst concavity</th>\n",
       "      <th>worst concave points</th>\n",
       "      <th>worst symmetry</th>\n",
       "      <th>worst fractal dimension</th>\n",
       "    </tr>\n",
       "  </thead>\n",
       "  <tbody>\n",
       "    <tr>\n",
       "      <th>0</th>\n",
       "      <td>17.99</td>\n",
       "      <td>10.38</td>\n",
       "      <td>122.80</td>\n",
       "      <td>1001.0</td>\n",
       "      <td>0.11840</td>\n",
       "      <td>0.27760</td>\n",
       "      <td>0.3001</td>\n",
       "      <td>0.14710</td>\n",
       "      <td>0.2419</td>\n",
       "      <td>0.07871</td>\n",
       "      <td>...</td>\n",
       "      <td>25.38</td>\n",
       "      <td>17.33</td>\n",
       "      <td>184.60</td>\n",
       "      <td>2019.0</td>\n",
       "      <td>0.1622</td>\n",
       "      <td>0.6656</td>\n",
       "      <td>0.7119</td>\n",
       "      <td>0.2654</td>\n",
       "      <td>0.4601</td>\n",
       "      <td>0.11890</td>\n",
       "    </tr>\n",
       "    <tr>\n",
       "      <th>1</th>\n",
       "      <td>20.57</td>\n",
       "      <td>17.77</td>\n",
       "      <td>132.90</td>\n",
       "      <td>1326.0</td>\n",
       "      <td>0.08474</td>\n",
       "      <td>0.07864</td>\n",
       "      <td>0.0869</td>\n",
       "      <td>0.07017</td>\n",
       "      <td>0.1812</td>\n",
       "      <td>0.05667</td>\n",
       "      <td>...</td>\n",
       "      <td>24.99</td>\n",
       "      <td>23.41</td>\n",
       "      <td>158.80</td>\n",
       "      <td>1956.0</td>\n",
       "      <td>0.1238</td>\n",
       "      <td>0.1866</td>\n",
       "      <td>0.2416</td>\n",
       "      <td>0.1860</td>\n",
       "      <td>0.2750</td>\n",
       "      <td>0.08902</td>\n",
       "    </tr>\n",
       "    <tr>\n",
       "      <th>2</th>\n",
       "      <td>19.69</td>\n",
       "      <td>21.25</td>\n",
       "      <td>130.00</td>\n",
       "      <td>1203.0</td>\n",
       "      <td>0.10960</td>\n",
       "      <td>0.15990</td>\n",
       "      <td>0.1974</td>\n",
       "      <td>0.12790</td>\n",
       "      <td>0.2069</td>\n",
       "      <td>0.05999</td>\n",
       "      <td>...</td>\n",
       "      <td>23.57</td>\n",
       "      <td>25.53</td>\n",
       "      <td>152.50</td>\n",
       "      <td>1709.0</td>\n",
       "      <td>0.1444</td>\n",
       "      <td>0.4245</td>\n",
       "      <td>0.4504</td>\n",
       "      <td>0.2430</td>\n",
       "      <td>0.3613</td>\n",
       "      <td>0.08758</td>\n",
       "    </tr>\n",
       "    <tr>\n",
       "      <th>3</th>\n",
       "      <td>11.42</td>\n",
       "      <td>20.38</td>\n",
       "      <td>77.58</td>\n",
       "      <td>386.1</td>\n",
       "      <td>0.14250</td>\n",
       "      <td>0.28390</td>\n",
       "      <td>0.2414</td>\n",
       "      <td>0.10520</td>\n",
       "      <td>0.2597</td>\n",
       "      <td>0.09744</td>\n",
       "      <td>...</td>\n",
       "      <td>14.91</td>\n",
       "      <td>26.50</td>\n",
       "      <td>98.87</td>\n",
       "      <td>567.7</td>\n",
       "      <td>0.2098</td>\n",
       "      <td>0.8663</td>\n",
       "      <td>0.6869</td>\n",
       "      <td>0.2575</td>\n",
       "      <td>0.6638</td>\n",
       "      <td>0.17300</td>\n",
       "    </tr>\n",
       "    <tr>\n",
       "      <th>4</th>\n",
       "      <td>20.29</td>\n",
       "      <td>14.34</td>\n",
       "      <td>135.10</td>\n",
       "      <td>1297.0</td>\n",
       "      <td>0.10030</td>\n",
       "      <td>0.13280</td>\n",
       "      <td>0.1980</td>\n",
       "      <td>0.10430</td>\n",
       "      <td>0.1809</td>\n",
       "      <td>0.05883</td>\n",
       "      <td>...</td>\n",
       "      <td>22.54</td>\n",
       "      <td>16.67</td>\n",
       "      <td>152.20</td>\n",
       "      <td>1575.0</td>\n",
       "      <td>0.1374</td>\n",
       "      <td>0.2050</td>\n",
       "      <td>0.4000</td>\n",
       "      <td>0.1625</td>\n",
       "      <td>0.2364</td>\n",
       "      <td>0.07678</td>\n",
       "    </tr>\n",
       "  </tbody>\n",
       "</table>\n",
       "<p>5 rows × 30 columns</p>\n",
       "</div>"
      ],
      "text/plain": [
       "   mean radius  mean texture  mean perimeter  mean area  mean smoothness  \\\n",
       "0        17.99         10.38          122.80     1001.0          0.11840   \n",
       "1        20.57         17.77          132.90     1326.0          0.08474   \n",
       "2        19.69         21.25          130.00     1203.0          0.10960   \n",
       "3        11.42         20.38           77.58      386.1          0.14250   \n",
       "4        20.29         14.34          135.10     1297.0          0.10030   \n",
       "\n",
       "   mean compactness  mean concavity  mean concave points  mean symmetry  \\\n",
       "0           0.27760          0.3001              0.14710         0.2419   \n",
       "1           0.07864          0.0869              0.07017         0.1812   \n",
       "2           0.15990          0.1974              0.12790         0.2069   \n",
       "3           0.28390          0.2414              0.10520         0.2597   \n",
       "4           0.13280          0.1980              0.10430         0.1809   \n",
       "\n",
       "   mean fractal dimension           ...             worst radius  \\\n",
       "0                 0.07871           ...                    25.38   \n",
       "1                 0.05667           ...                    24.99   \n",
       "2                 0.05999           ...                    23.57   \n",
       "3                 0.09744           ...                    14.91   \n",
       "4                 0.05883           ...                    22.54   \n",
       "\n",
       "   worst texture  worst perimeter  worst area  worst smoothness  \\\n",
       "0          17.33           184.60      2019.0            0.1622   \n",
       "1          23.41           158.80      1956.0            0.1238   \n",
       "2          25.53           152.50      1709.0            0.1444   \n",
       "3          26.50            98.87       567.7            0.2098   \n",
       "4          16.67           152.20      1575.0            0.1374   \n",
       "\n",
       "   worst compactness  worst concavity  worst concave points  worst symmetry  \\\n",
       "0             0.6656           0.7119                0.2654          0.4601   \n",
       "1             0.1866           0.2416                0.1860          0.2750   \n",
       "2             0.4245           0.4504                0.2430          0.3613   \n",
       "3             0.8663           0.6869                0.2575          0.6638   \n",
       "4             0.2050           0.4000                0.1625          0.2364   \n",
       "\n",
       "   worst fractal dimension  \n",
       "0                  0.11890  \n",
       "1                  0.08902  \n",
       "2                  0.08758  \n",
       "3                  0.17300  \n",
       "4                  0.07678  \n",
       "\n",
       "[5 rows x 30 columns]"
      ]
     },
     "execution_count": 7,
     "metadata": {},
     "output_type": "execute_result"
    }
   ],
   "source": [
    "df.head()"
   ]
  },
  {
   "cell_type": "code",
   "execution_count": 8,
   "metadata": {
    "collapsed": true
   },
   "outputs": [],
   "source": [
    "from sklearn.preprocessing import StandardScaler"
   ]
  },
  {
   "cell_type": "code",
   "execution_count": 9,
   "metadata": {},
   "outputs": [
    {
     "data": {
      "text/plain": [
       "StandardScaler(copy=True, with_mean=True, with_std=True)"
      ]
     },
     "execution_count": 9,
     "metadata": {},
     "output_type": "execute_result"
    }
   ],
   "source": [
    "scaler = StandardScaler()\n",
    "scaler.fit(df)"
   ]
  },
  {
   "cell_type": "code",
   "execution_count": 10,
   "metadata": {
    "collapsed": true
   },
   "outputs": [],
   "source": [
    "scaled_data = scaler.transform(df)"
   ]
  },
  {
   "cell_type": "code",
   "execution_count": 11,
   "metadata": {
    "collapsed": true
   },
   "outputs": [],
   "source": [
    "# PCA\n",
    "from sklearn.decomposition import PCA"
   ]
  },
  {
   "cell_type": "code",
   "execution_count": 12,
   "metadata": {
    "collapsed": true
   },
   "outputs": [],
   "source": [
    "# Find the 2 principals components\n",
    "pca = PCA(n_components=2)"
   ]
  },
  {
   "cell_type": "code",
   "execution_count": 13,
   "metadata": {},
   "outputs": [
    {
     "data": {
      "text/plain": [
       "PCA(copy=True, iterated_power='auto', n_components=2, random_state=None,\n",
       "  svd_solver='auto', tol=0.0, whiten=False)"
      ]
     },
     "execution_count": 13,
     "metadata": {},
     "output_type": "execute_result"
    }
   ],
   "source": [
    "pca.fit(scaled_data)"
   ]
  },
  {
   "cell_type": "markdown",
   "metadata": {},
   "source": [
    "Now we can transform this data to its first 2 principal components."
   ]
  },
  {
   "cell_type": "code",
   "execution_count": 14,
   "metadata": {
    "collapsed": true
   },
   "outputs": [],
   "source": [
    "x_pca = pca.transform(scaled_data)"
   ]
  },
  {
   "cell_type": "code",
   "execution_count": 15,
   "metadata": {},
   "outputs": [
    {
     "data": {
      "text/plain": [
       "(569, 30)"
      ]
     },
     "execution_count": 15,
     "metadata": {},
     "output_type": "execute_result"
    }
   ],
   "source": [
    "scaled_data.shape"
   ]
  },
  {
   "cell_type": "code",
   "execution_count": 16,
   "metadata": {},
   "outputs": [
    {
     "data": {
      "text/plain": [
       "(569, 2)"
      ]
     },
     "execution_count": 16,
     "metadata": {},
     "output_type": "execute_result"
    }
   ],
   "source": [
    "x_pca.shape"
   ]
  },
  {
   "cell_type": "code",
   "execution_count": 17,
   "metadata": {
    "collapsed": true
   },
   "outputs": [],
   "source": [
    "# Make a df for the 2 principal component and the Tumor Variable\n",
    "pca_df = pd.DataFrame(data=[x_pca[:,0], x_pca[:,1], cancer[\"target\"]]).T\n",
    "# Set up the columns names\n",
    "pca_df.columns = [\"First principal component\", 'Second Principal Component', \"Tumors\"]"
   ]
  },
  {
   "cell_type": "code",
   "execution_count": 18,
   "metadata": {
    "collapsed": true
   },
   "outputs": [],
   "source": [
    "# Put the right labels for the tumors columns\n",
    "pca_df[\"Tumors\"] = pca_df[\"Tumors\"].apply(lambda x: cancer.target_names[1] if x == 1 else cancer.target_names[0])"
   ]
  },
  {
   "cell_type": "code",
   "execution_count": 19,
   "metadata": {},
   "outputs": [
    {
     "data": {
      "text/html": [
       "<div>\n",
       "<style>\n",
       "    .dataframe thead tr:only-child th {\n",
       "        text-align: right;\n",
       "    }\n",
       "\n",
       "    .dataframe thead th {\n",
       "        text-align: left;\n",
       "    }\n",
       "\n",
       "    .dataframe tbody tr th {\n",
       "        vertical-align: top;\n",
       "    }\n",
       "</style>\n",
       "<table border=\"1\" class=\"dataframe\">\n",
       "  <thead>\n",
       "    <tr style=\"text-align: right;\">\n",
       "      <th></th>\n",
       "      <th>First principal component</th>\n",
       "      <th>Second Principal Component</th>\n",
       "      <th>Tumors</th>\n",
       "    </tr>\n",
       "  </thead>\n",
       "  <tbody>\n",
       "    <tr>\n",
       "      <th>0</th>\n",
       "      <td>9.192837</td>\n",
       "      <td>1.948583</td>\n",
       "      <td>malignant</td>\n",
       "    </tr>\n",
       "    <tr>\n",
       "      <th>1</th>\n",
       "      <td>2.387802</td>\n",
       "      <td>-3.768172</td>\n",
       "      <td>malignant</td>\n",
       "    </tr>\n",
       "    <tr>\n",
       "      <th>2</th>\n",
       "      <td>5.733896</td>\n",
       "      <td>-1.075174</td>\n",
       "      <td>malignant</td>\n",
       "    </tr>\n",
       "    <tr>\n",
       "      <th>3</th>\n",
       "      <td>7.122953</td>\n",
       "      <td>10.275589</td>\n",
       "      <td>malignant</td>\n",
       "    </tr>\n",
       "    <tr>\n",
       "      <th>4</th>\n",
       "      <td>3.935302</td>\n",
       "      <td>-1.948072</td>\n",
       "      <td>malignant</td>\n",
       "    </tr>\n",
       "  </tbody>\n",
       "</table>\n",
       "</div>"
      ],
      "text/plain": [
       "   First principal component  Second Principal Component     Tumors\n",
       "0                   9.192837                    1.948583  malignant\n",
       "1                   2.387802                   -3.768172  malignant\n",
       "2                   5.733896                   -1.075174  malignant\n",
       "3                   7.122953                   10.275589  malignant\n",
       "4                   3.935302                   -1.948072  malignant"
      ]
     },
     "execution_count": 19,
     "metadata": {},
     "output_type": "execute_result"
    }
   ],
   "source": [
    "pca_df.head()"
   ]
  },
  {
   "cell_type": "code",
   "execution_count": 20,
   "metadata": {},
   "outputs": [
    {
     "data": {
      "text/plain": [
       "<matplotlib.text.Text at 0x1a1ed73b00>"
      ]
     },
     "execution_count": 20,
     "metadata": {},
     "output_type": "execute_result"
    },
    {
     "data": {
      "text/plain": [
       "<matplotlib.figure.Figure at 0x1a15828b00>"
      ]
     },
     "metadata": {},
     "output_type": "display_data"
    },
    {
     "data": {
      "image/png": "[encoded data removed]",
      "text/plain": [
       "<matplotlib.figure.Figure at 0x1a15828c88>"
      ]
     },
     "metadata": {},
     "output_type": "display_data"
    }
   ],
   "source": [
    "sns.set_style(\"darkgrid\")\n",
    "plt.figure(figsize=(8,6))\n",
    "sns.lmplot(\"First principal component\", \"Second Principal Component\", pca_df, fit_reg=False, hue=\"Tumors\", \n",
    "           palette=\"plasma_r\", size=7)\n",
    "plt.title(\"PCA vs tumor benign or malign\", fontsize=20)"
   ]
  },
  {
   "cell_type": "code",
   "execution_count": 21,
   "metadata": {
    "scrolled": true
   },
   "outputs": [
    {
     "data": {
      "text/plain": [
       "(569, 2)"
      ]
     },
     "execution_count": 21,
     "metadata": {},
     "output_type": "execute_result"
    }
   ],
   "source": [
    "x_pca.shape"
   ]
  },
  {
   "cell_type": "markdown",
   "metadata": {},
   "source": [
    "## We can see the weights of the differents features for the two principals components"
   ]
  },
  {
   "cell_type": "code",
   "execution_count": 22,
   "metadata": {},
   "outputs": [
    {
     "data": {
      "text/plain": [
       "array([[ 0.21890244,  0.10372458,  0.22753729,  0.22099499,  0.14258969,\n",
       "         0.23928535,  0.25840048,  0.26085376,  0.13816696,  0.06436335,\n",
       "         0.20597878,  0.01742803,  0.21132592,  0.20286964,  0.01453145,\n",
       "         0.17039345,  0.15358979,  0.1834174 ,  0.04249842,  0.10256832,\n",
       "         0.22799663,  0.10446933,  0.23663968,  0.22487053,  0.12795256,\n",
       "         0.21009588,  0.22876753,  0.25088597,  0.12290456,  0.13178394],\n",
       "       [-0.23385713, -0.05970609, -0.21518136, -0.23107671,  0.18611302,\n",
       "         0.15189161,  0.06016536, -0.0347675 ,  0.19034877,  0.36657547,\n",
       "        -0.10555215,  0.08997968, -0.08945723, -0.15229263,  0.20443045,\n",
       "         0.2327159 ,  0.19720728,  0.13032156,  0.183848  ,  0.28009203,\n",
       "        -0.21986638, -0.0454673 , -0.19987843, -0.21935186,  0.17230435,\n",
       "         0.14359317,  0.09796411, -0.00825724,  0.14188335,  0.27533947]])"
      ]
     },
     "execution_count": 22,
     "metadata": {},
     "output_type": "execute_result"
    }
   ],
   "source": [
    "pca.components_"
   ]
  },
  {
   "cell_type": "code",
   "execution_count": 23,
   "metadata": {},
   "outputs": [
    {
     "data": {
      "text/plain": [
       "(2, 30)"
      ]
     },
     "execution_count": 23,
     "metadata": {},
     "output_type": "execute_result"
    }
   ],
   "source": [
    "pca.components_.shape"
   ]
  },
  {
   "cell_type": "code",
   "execution_count": 24,
   "metadata": {
    "collapsed": true
   },
   "outputs": [],
   "source": [
    "df_comp = pd.DataFrame(pca.components_,columns=cancer['feature_names'])"
   ]
  },
  {
   "cell_type": "code",
   "execution_count": 25,
   "metadata": {},
   "outputs": [
    {
     "data": {
      "text/html": [
       "<div>\n",
       "<style>\n",
       "    .dataframe thead tr:only-child th {\n",
       "        text-align: right;\n",
       "    }\n",
       "\n",
       "    .dataframe thead th {\n",
       "        text-align: left;\n",
       "    }\n",
       "\n",
       "    .dataframe tbody tr th {\n",
       "        vertical-align: top;\n",
       "    }\n",
       "</style>\n",
       "<table border=\"1\" class=\"dataframe\">\n",
       "  <thead>\n",
       "    <tr style=\"text-align: right;\">\n",
       "      <th></th>\n",
       "      <th>mean radius</th>\n",
       "      <th>mean texture</th>\n",
       "      <th>mean perimeter</th>\n",
       "      <th>mean area</th>\n",
       "      <th>mean smoothness</th>\n",
       "      <th>mean compactness</th>\n",
       "      <th>mean concavity</th>\n",
       "      <th>mean concave points</th>\n",
       "      <th>mean symmetry</th>\n",
       "      <th>mean fractal dimension</th>\n",
       "      <th>...</th>\n",
       "      <th>worst radius</th>\n",
       "      <th>worst texture</th>\n",
       "      <th>worst perimeter</th>\n",
       "      <th>worst area</th>\n",
       "      <th>worst smoothness</th>\n",
       "      <th>worst compactness</th>\n",
       "      <th>worst concavity</th>\n",
       "      <th>worst concave points</th>\n",
       "      <th>worst symmetry</th>\n",
       "      <th>worst fractal dimension</th>\n",
       "    </tr>\n",
       "  </thead>\n",
       "  <tbody>\n",
       "    <tr>\n",
       "      <th>0</th>\n",
       "      <td>0.218902</td>\n",
       "      <td>0.103725</td>\n",
       "      <td>0.227537</td>\n",
       "      <td>0.220995</td>\n",
       "      <td>0.142590</td>\n",
       "      <td>0.239285</td>\n",
       "      <td>0.258400</td>\n",
       "      <td>0.260854</td>\n",
       "      <td>0.138167</td>\n",
       "      <td>0.064363</td>\n",
       "      <td>...</td>\n",
       "      <td>0.227997</td>\n",
       "      <td>0.104469</td>\n",
       "      <td>0.236640</td>\n",
       "      <td>0.224871</td>\n",
       "      <td>0.127953</td>\n",
       "      <td>0.210096</td>\n",
       "      <td>0.228768</td>\n",
       "      <td>0.250886</td>\n",
       "      <td>0.122905</td>\n",
       "      <td>0.131784</td>\n",
       "    </tr>\n",
       "    <tr>\n",
       "      <th>1</th>\n",
       "      <td>-0.233857</td>\n",
       "      <td>-0.059706</td>\n",
       "      <td>-0.215181</td>\n",
       "      <td>-0.231077</td>\n",
       "      <td>0.186113</td>\n",
       "      <td>0.151892</td>\n",
       "      <td>0.060165</td>\n",
       "      <td>-0.034768</td>\n",
       "      <td>0.190349</td>\n",
       "      <td>0.366575</td>\n",
       "      <td>...</td>\n",
       "      <td>-0.219866</td>\n",
       "      <td>-0.045467</td>\n",
       "      <td>-0.199878</td>\n",
       "      <td>-0.219352</td>\n",
       "      <td>0.172304</td>\n",
       "      <td>0.143593</td>\n",
       "      <td>0.097964</td>\n",
       "      <td>-0.008257</td>\n",
       "      <td>0.141883</td>\n",
       "      <td>0.275339</td>\n",
       "    </tr>\n",
       "  </tbody>\n",
       "</table>\n",
       "<p>2 rows × 30 columns</p>\n",
       "</div>"
      ],
      "text/plain": [
       "   mean radius  mean texture  mean perimeter  mean area  mean smoothness  \\\n",
       "0     0.218902      0.103725        0.227537   0.220995         0.142590   \n",
       "1    -0.233857     -0.059706       -0.215181  -0.231077         0.186113   \n",
       "\n",
       "   mean compactness  mean concavity  mean concave points  mean symmetry  \\\n",
       "0          0.239285        0.258400             0.260854       0.138167   \n",
       "1          0.151892        0.060165            -0.034768       0.190349   \n",
       "\n",
       "   mean fractal dimension           ...             worst radius  \\\n",
       "0                0.064363           ...                 0.227997   \n",
       "1                0.366575           ...                -0.219866   \n",
       "\n",
       "   worst texture  worst perimeter  worst area  worst smoothness  \\\n",
       "0       0.104469         0.236640    0.224871          0.127953   \n",
       "1      -0.045467        -0.199878   -0.219352          0.172304   \n",
       "\n",
       "   worst compactness  worst concavity  worst concave points  worst symmetry  \\\n",
       "0           0.210096         0.228768              0.250886        0.122905   \n",
       "1           0.143593         0.097964             -0.008257        0.141883   \n",
       "\n",
       "   worst fractal dimension  \n",
       "0                 0.131784  \n",
       "1                 0.275339  \n",
       "\n",
       "[2 rows x 30 columns]"
      ]
     },
     "execution_count": 25,
     "metadata": {},
     "output_type": "execute_result"
    }
   ],
   "source": [
    "df_comp"
   ]
  },
  {
   "cell_type": "code",
   "execution_count": 26,
   "metadata": {},
   "outputs": [
    {
     "data": {
      "text/plain": [
       "<matplotlib.text.Text at 0x1a1ee74240>"
      ]
     },
     "execution_count": 26,
     "metadata": {},
     "output_type": "execute_result"
    },
    {
     "data": {
      "image/png": "[encoded data removed]",
      "text/plain": [
       "<matplotlib.figure.Figure at 0x1a1edcd160>"
      ]
     },
     "metadata": {},
     "output_type": "display_data"
    }
   ],
   "source": [
    "plt.figure(figsize=(15,10))\n",
    "sns.heatmap(df_comp.T,cmap='plasma')\n",
    "plt.title(\"CPA Features Weights\", fontsize=18)"
   ]
  },
  {
   "cell_type": "code",
   "execution_count": 27,
   "metadata": {
    "scrolled": true
   },
   "outputs": [
    {
     "data": {
      "text/html": [
       "<div>\n",
       "<style>\n",
       "    .dataframe thead tr:only-child th {\n",
       "        text-align: right;\n",
       "    }\n",
       "\n",
       "    .dataframe thead th {\n",
       "        text-align: left;\n",
       "    }\n",
       "\n",
       "    .dataframe tbody tr th {\n",
       "        vertical-align: top;\n",
       "    }\n",
       "</style>\n",
       "<table border=\"1\" class=\"dataframe\">\n",
       "  <thead>\n",
       "    <tr style=\"text-align: right;\">\n",
       "      <th></th>\n",
       "      <th>mean radius</th>\n",
       "      <th>mean texture</th>\n",
       "      <th>mean perimeter</th>\n",
       "      <th>mean area</th>\n",
       "      <th>mean smoothness</th>\n",
       "      <th>mean compactness</th>\n",
       "      <th>mean concavity</th>\n",
       "      <th>mean concave points</th>\n",
       "      <th>mean symmetry</th>\n",
       "      <th>mean fractal dimension</th>\n",
       "      <th>...</th>\n",
       "      <th>worst radius</th>\n",
       "      <th>worst texture</th>\n",
       "      <th>worst perimeter</th>\n",
       "      <th>worst area</th>\n",
       "      <th>worst smoothness</th>\n",
       "      <th>worst compactness</th>\n",
       "      <th>worst concavity</th>\n",
       "      <th>worst concave points</th>\n",
       "      <th>worst symmetry</th>\n",
       "      <th>worst fractal dimension</th>\n",
       "    </tr>\n",
       "  </thead>\n",
       "  <tbody>\n",
       "    <tr>\n",
       "      <th>0</th>\n",
       "      <td>0.218902</td>\n",
       "      <td>0.103725</td>\n",
       "      <td>0.227537</td>\n",
       "      <td>0.220995</td>\n",
       "      <td>0.142590</td>\n",
       "      <td>0.239285</td>\n",
       "      <td>0.258400</td>\n",
       "      <td>0.260854</td>\n",
       "      <td>0.138167</td>\n",
       "      <td>0.064363</td>\n",
       "      <td>...</td>\n",
       "      <td>0.227997</td>\n",
       "      <td>0.104469</td>\n",
       "      <td>0.236640</td>\n",
       "      <td>0.224871</td>\n",
       "      <td>0.127953</td>\n",
       "      <td>0.210096</td>\n",
       "      <td>0.228768</td>\n",
       "      <td>0.250886</td>\n",
       "      <td>0.122905</td>\n",
       "      <td>0.131784</td>\n",
       "    </tr>\n",
       "    <tr>\n",
       "      <th>1</th>\n",
       "      <td>-0.233857</td>\n",
       "      <td>-0.059706</td>\n",
       "      <td>-0.215181</td>\n",
       "      <td>-0.231077</td>\n",
       "      <td>0.186113</td>\n",
       "      <td>0.151892</td>\n",
       "      <td>0.060165</td>\n",
       "      <td>-0.034768</td>\n",
       "      <td>0.190349</td>\n",
       "      <td>0.366575</td>\n",
       "      <td>...</td>\n",
       "      <td>-0.219866</td>\n",
       "      <td>-0.045467</td>\n",
       "      <td>-0.199878</td>\n",
       "      <td>-0.219352</td>\n",
       "      <td>0.172304</td>\n",
       "      <td>0.143593</td>\n",
       "      <td>0.097964</td>\n",
       "      <td>-0.008257</td>\n",
       "      <td>0.141883</td>\n",
       "      <td>0.275339</td>\n",
       "    </tr>\n",
       "  </tbody>\n",
       "</table>\n",
       "<p>2 rows × 30 columns</p>\n",
       "</div>"
      ],
      "text/plain": [
       "   mean radius  mean texture  mean perimeter  mean area  mean smoothness  \\\n",
       "0     0.218902      0.103725        0.227537   0.220995         0.142590   \n",
       "1    -0.233857     -0.059706       -0.215181  -0.231077         0.186113   \n",
       "\n",
       "   mean compactness  mean concavity  mean concave points  mean symmetry  \\\n",
       "0          0.239285        0.258400             0.260854       0.138167   \n",
       "1          0.151892        0.060165            -0.034768       0.190349   \n",
       "\n",
       "   mean fractal dimension           ...             worst radius  \\\n",
       "0                0.064363           ...                 0.227997   \n",
       "1                0.366575           ...                -0.219866   \n",
       "\n",
       "   worst texture  worst perimeter  worst area  worst smoothness  \\\n",
       "0       0.104469         0.236640    0.224871          0.127953   \n",
       "1      -0.045467        -0.199878   -0.219352          0.172304   \n",
       "\n",
       "   worst compactness  worst concavity  worst concave points  worst symmetry  \\\n",
       "0           0.210096         0.228768              0.250886        0.122905   \n",
       "1           0.143593         0.097964             -0.008257        0.141883   \n",
       "\n",
       "   worst fractal dimension  \n",
       "0                 0.131784  \n",
       "1                 0.275339  \n",
       "\n",
       "[2 rows x 30 columns]"
      ]
     },
     "execution_count": 27,
     "metadata": {},
     "output_type": "execute_result"
    }
   ],
   "source": [
    "df_comp"
   ]
  },
  {
   "cell_type": "markdown",
   "metadata": {},
   "source": [
    "# Let's make it more clear \n",
    "(Sorted weights of the features for both principal conponents)"
   ]
  },
  {
   "cell_type": "code",
   "execution_count": 28,
   "metadata": {
    "collapsed": true
   },
   "outputs": [],
   "source": [
    "# Sort by importance the features in the First principal component\n",
    "df_comp0 = pd.DataFrame(df_comp.loc[0])\n",
    "df_comp0.columns= [\"First principal component\"]\n",
    "df_comp0.sort_values(by=\"First principal component\", ascending = False, inplace=True)"
   ]
  },
  {
   "cell_type": "code",
   "execution_count": 29,
   "metadata": {
    "collapsed": true
   },
   "outputs": [],
   "source": [
    "# Let's do the same for the Second Principal Component\n",
    "df_comp1 = pd.DataFrame(df_comp.loc[1])\n",
    "df_comp1.columns= [\"Second principal component\"]\n",
    "df_comp1.sort_values(by=\"Second principal component\", ascending = False, inplace=True)"
   ]
  },
  {
   "cell_type": "code",
   "execution_count": 30,
   "metadata": {},
   "outputs": [
    {
     "data": {
      "text/plain": [
       "<matplotlib.text.Text at 0x1a1f703898>"
      ]
     },
     "execution_count": 30,
     "metadata": {},
     "output_type": "execute_result"
    },
    {
     "data": {
      "image/png": "[encoded data removed]",
      "text/plain": [
       "<matplotlib.figure.Figure at 0x1a1f170710>"
      ]
     },
     "metadata": {},
     "output_type": "display_data"
    }
   ],
   "source": [
    "plt.figure(figsize=(12,14))\n",
    "sns.heatmap(df_comp0,cmap='plasma', annot=True)\n",
    "plt.title(\"1st Principal Component Features Weights\", fontsize=18)"
   ]
  },
  {
   "cell_type": "code",
   "execution_count": 31,
   "metadata": {},
   "outputs": [
    {
     "data": {
      "text/plain": [
       "<matplotlib.text.Text at 0x1a1fc00160>"
      ]
     },
     "execution_count": 31,
     "metadata": {},
     "output_type": "execute_result"
    },
    {
     "data": {
      "image/png": "[encoded data removed]",
      "text/plain": [
       "<matplotlib.figure.Figure at 0x1a1f170278>"
      ]
     },
     "metadata": {},
     "output_type": "display_data"
    }
   ],
   "source": [
    "plt.figure(figsize=(12,14))\n",
    "sns.heatmap(df_comp1,cmap='plasma', annot=True)\n",
    "plt.title(\"2nd Principal Component Features Weights\", fontsize=18)"
   ]
  },
  {
   "cell_type": "code",
   "execution_count": 32,
   "metadata": {},
   "outputs": [
    {
     "data": {
      "text/html": [
       "<div>\n",
       "<style>\n",
       "    .dataframe thead tr:only-child th {\n",
       "        text-align: right;\n",
       "    }\n",
       "\n",
       "    .dataframe thead th {\n",
       "        text-align: left;\n",
       "    }\n",
       "\n",
       "    .dataframe tbody tr th {\n",
       "        vertical-align: top;\n",
       "    }\n",
       "</style>\n",
       "<table border=\"1\" class=\"dataframe\">\n",
       "  <thead>\n",
       "    <tr style=\"text-align: right;\">\n",
       "      <th></th>\n",
       "      <th>First principal component</th>\n",
       "      <th>Second Principal Component</th>\n",
       "      <th>Tumors</th>\n",
       "    </tr>\n",
       "  </thead>\n",
       "  <tbody>\n",
       "    <tr>\n",
       "      <th>0</th>\n",
       "      <td>9.192837</td>\n",
       "      <td>1.948583</td>\n",
       "      <td>malignant</td>\n",
       "    </tr>\n",
       "    <tr>\n",
       "      <th>1</th>\n",
       "      <td>2.387802</td>\n",
       "      <td>-3.768172</td>\n",
       "      <td>malignant</td>\n",
       "    </tr>\n",
       "    <tr>\n",
       "      <th>2</th>\n",
       "      <td>5.733896</td>\n",
       "      <td>-1.075174</td>\n",
       "      <td>malignant</td>\n",
       "    </tr>\n",
       "    <tr>\n",
       "      <th>3</th>\n",
       "      <td>7.122953</td>\n",
       "      <td>10.275589</td>\n",
       "      <td>malignant</td>\n",
       "    </tr>\n",
       "    <tr>\n",
       "      <th>4</th>\n",
       "      <td>3.935302</td>\n",
       "      <td>-1.948072</td>\n",
       "      <td>malignant</td>\n",
       "    </tr>\n",
       "  </tbody>\n",
       "</table>\n",
       "</div>"
      ],
      "text/plain": [
       "   First principal component  Second Principal Component     Tumors\n",
       "0                   9.192837                    1.948583  malignant\n",
       "1                   2.387802                   -3.768172  malignant\n",
       "2                   5.733896                   -1.075174  malignant\n",
       "3                   7.122953                   10.275589  malignant\n",
       "4                   3.935302                   -1.948072  malignant"
      ]
     },
     "execution_count": 32,
     "metadata": {},
     "output_type": "execute_result"
    }
   ],
   "source": [
    "pca_df.head()"
   ]
  },
  {
   "cell_type": "markdown",
   "metadata": {},
   "source": [
    "# Let's make some ML now:"
   ]
  },
  {
   "cell_type": "markdown",
   "metadata": {},
   "source": [
    "# First let's test a SVC"
   ]
  },
  {
   "cell_type": "code",
   "execution_count": 33,
   "metadata": {
    "collapsed": true
   },
   "outputs": [],
   "source": [
    "from sklearn.model_selection import train_test_split"
   ]
  },
  {
   "cell_type": "code",
   "execution_count": 34,
   "metadata": {},
   "outputs": [],
   "source": [
    "X = pca_df.drop(\"Tumors\", axis=1)\n",
    "y = pca_df[\"Tumors\"].apply(lambda x: 1 if x == \"malignant\" else 0)\n",
    "\n",
    "X_train, X_test, y_train, y_test = train_test_split(X, y, test_size=0.3, random_state=25)"
   ]
  },
  {
   "cell_type": "code",
   "execution_count": 35,
   "metadata": {},
   "outputs": [
    {
     "data": {
      "text/plain": [
       "SVC(C=1.0, cache_size=200, class_weight=None, coef0=0.0,\n",
       "  decision_function_shape='ovr', degree=3, gamma='auto', kernel='rbf',\n",
       "  max_iter=-1, probability=False, random_state=None, shrinking=True,\n",
       "  tol=0.001, verbose=False)"
      ]
     },
     "execution_count": 35,
     "metadata": {},
     "output_type": "execute_result"
    }
   ],
   "source": [
    "# Using a SVC\n",
    "from sklearn.svm import SVC\n",
    "# Instantiate\n",
    "svc = SVC()\n",
    "\n",
    "# fit the model\n",
    "svc.fit(X_train, y_train)"
   ]
  },
  {
   "cell_type": "code",
   "execution_count": 36,
   "metadata": {
    "collapsed": true
   },
   "outputs": [],
   "source": [
    "predictions = svc.predict(X_test)"
   ]
  },
  {
   "cell_type": "code",
   "execution_count": 37,
   "metadata": {
    "collapsed": true
   },
   "outputs": [],
   "source": [
    "from sklearn.metrics import confusion_matrix, classification_report"
   ]
  },
  {
   "cell_type": "code",
   "execution_count": 38,
   "metadata": {},
   "outputs": [
    {
     "name": "stdout",
     "output_type": "stream",
     "text": [
      "             precision    recall  f1-score   support\n",
      "\n",
      "          0       0.96      0.92      0.94       113\n",
      "          1       0.86      0.93      0.89        58\n",
      "\n",
      "avg / total       0.93      0.92      0.92       171\n",
      "\n",
      "\n",
      "\n",
      "[[104   9]\n",
      " [  4  54]]\n"
     ]
    }
   ],
   "source": [
    "print(classification_report(y_test, predictions))\n",
    "print(\"\\n\")\n",
    "print(confusion_matrix(y_test, predictions))"
   ]
  },
  {
   "cell_type": "code",
   "execution_count": 39,
   "metadata": {
    "collapsed": true
   },
   "outputs": [],
   "source": [
    "from sklearn.model_selection import GridSearchCV"
   ]
  },
  {
   "cell_type": "code",
   "execution_count": 40,
   "metadata": {},
   "outputs": [],
   "source": [
    "param_grid = {\"C\": np.arange(0.01, 5, 0.5), \"gamma\": np.arange(0, 1, 0.1)}"
   ]
  },
  {
   "cell_type": "code",
   "execution_count": 41,
   "metadata": {
    "scrolled": true
   },
   "outputs": [
    {
     "name": "stdout",
     "output_type": "stream",
     "text": [
      "Fitting 3 folds for each of 100 candidates, totalling 300 fits\n",
      "[CV] C=0.01, gamma=0.0 ...............................................\n",
      "[CV] C=0.01, gamma=0.0 ...............................................\n",
      "[CV] C=0.01, gamma=0.0 ...............................................\n",
      "[CV] ................................ C=0.01, gamma=0.0, total=   0.0s\n",
      "[CV] C=0.01, gamma=0.1 ...............................................\n",
      "[CV] ................................ C=0.01, gamma=0.0, total=   0.0s\n",
      "[CV] C=0.01, gamma=0.1 ...............................................\n",
      "[CV] C=0.01, gamma=0.1 ...............................................\n",
      "[CV] ................................ C=0.01, gamma=0.0, total=   0.0s\n",
      "[CV] ................................ C=0.01, gamma=0.1, total=   0.0s\n",
      "[CV] C=0.01, gamma=0.2 ...............................................\n",
      "[CV] C=0.01, gamma=0.2 ...............................................\n",
      "[CV] C=0.01, gamma=0.2 ...............................................\n",
      "[CV] ................................ C=0.01, gamma=0.1, total=   0.0s\n",
      "[CV] ................................ C=0.01, gamma=0.1, total=   0.0s\n",
      "[CV] C=0.01, gamma=0.3 ...............................................\n",
      "[CV] ................................ C=0.01, gamma=0.2, total=   0.0s\n",
      "[CV] ................................ C=0.01, gamma=0.2, total=   0.0s\n",
      "[CV] C=0.01, gamma=0.3 ...............................................\n",
      "[CV] C=0.01, gamma=0.3 ...............................................\n",
      "[CV] C=0.01, gamma=0.4 ...............................................\n",
      "[CV] C=0.01, gamma=0.4 ...............................................\n",
      "[CV] ................................ C=0.01, gamma=0.2, total=   0.0s\n",
      "[CV] C=0.01, gamma=0.4 ...............................................\n",
      "[CV] ................................ C=0.01, gamma=0.3, total=   0.0s\n",
      "[CV] C=0.01, gamma=0.5 ...............................................\n",
      "[CV] C=0.01, gamma=0.5 ...............................................\n",
      "[CV] ................................ C=0.01, gamma=0.3, total=   0.0s\n",
      "[CV] C=0.51, gamma=0.0 ...............................................\n",
      "[CV] ................................ C=0.01, gamma=0.3, total=   0.0s\n",
      "[CV] ................................ C=0.01, gamma=0.4, total=   0.0s\n",
      "[CV] ................................ C=0.01, gamma=0.4, total=   0.0s\n",
      "[CV] C=0.51, gamma=0.4 ...............................................\n",
      "[CV] ................................ C=0.01, gamma=0.5, total=   0.0s\n",
      "[CV] ................................ C=0.01, gamma=0.4, total=   0.0s\n",
      "[CV] ................................ C=0.01, gamma=0.5, total=   0.0s\n",
      "[CV] C=0.01, gamma=0.5 ...............................................\n",
      "[CV] C=0.51, gamma=0.9 ...............................................\n",
      "[CV] ................................ C=0.51, gamma=0.0, total=   0.0s\n",
      "[CV] C=0.51, gamma=0.0 ...............................................\n",
      "[CV] ................................ C=0.51, gamma=0.4, total=   0.0s\n",
      "[CV] C=0.51, gamma=0.5 ...............................................\n",
      "[CV] ................................ C=0.01, gamma=0.5, total=   0.0s\n",
      "[CV] ................................ C=0.51, gamma=0.9, total=   0.0s\n",
      "[CV] ................................ C=0.51, gamma=0.0, total=   0.0s\n",
      "[CV] C=0.01, gamma=0.6 ...............................................\n",
      "[CV] C=0.51, gamma=0.0 ...............................................\n",
      "[CV] C=0.51, gamma=0.9 ...............................................\n",
      "[CV] C=1.01, gamma=0.4 ...............................................\n",
      "[CV] ................................ C=0.51, gamma=0.5, total=   0.0s\n",
      "[CV] C=1.01, gamma=0.8 ...............................................\n",
      "[CV] C=0.51, gamma=0.5 ...............................................\n",
      "[CV] ................................ C=0.51, gamma=0.0, total=   0.0s\n",
      "[CV] ................................ C=0.01, gamma=0.6, total=   0.0s\n",
      "[CV] ................................ C=0.51, gamma=0.9, total=   0.0s\n",
      "[CV] ................................ C=1.01, gamma=0.4, total=   0.0s\n",
      "[CV] C=0.01, gamma=0.6 ...............................................\n",
      "[CV] C=0.51, gamma=0.1 ...............................................\n",
      "[CV] C=1.01, gamma=0.4 ...............................................\n",
      "[CV] ................................ C=0.51, gamma=0.5, total=   0.0s\n",
      "[CV] ................................ C=1.01, gamma=0.8, total=   0.0s\n",
      "[CV] C=1.01, gamma=0.9 ...............................................\n",
      "[CV] C=1.51, gamma=0.3 ...............................................\n",
      "[CV] ................................ C=1.01, gamma=0.4, total=   0.0s\n",
      "[CV] ................................ C=0.51, gamma=0.1, total=   0.0s\n",
      "[CV] C=1.01, gamma=0.4 ...............................................\n",
      "[CV] C=0.51, gamma=0.1 ...............................................\n",
      "[CV] ................................ C=0.01, gamma=0.6, total=   0.0s\n",
      "[CV] C=0.01, gamma=0.6 ...............................................\n",
      "[CV] ................................ C=1.51, gamma=0.3, total=   0.0s\n",
      "[CV] ................................ C=1.01, gamma=0.4, total=   0.0s\n",
      "[CV] C=1.51, gamma=0.3 ...............................................\n",
      "[CV] C=1.01, gamma=0.5 ...............................................\n",
      "[CV] ................................ C=0.51, gamma=0.1, total=   0.0s\n",
      "[CV] ................................ C=1.01, gamma=0.9, total=   0.0s\n",
      "[CV] C=0.51, gamma=0.1 ...............................................\n",
      "[CV] C=1.01, gamma=0.9 ...............................................\n",
      "[CV] C=1.51, gamma=0.8 ...............................................\n",
      "[CV] ................................ C=1.51, gamma=0.3, total=   0.0s\n",
      "[CV] ................................ C=1.01, gamma=0.5, total=   0.0s\n",
      "[CV] C=1.51, gamma=0.4 ...............................................\n",
      "[CV] ................................ C=0.01, gamma=0.6, total=   0.0s\n",
      "[CV] C=1.01, gamma=0.5 ...............................................\n",
      "[CV] C=0.01, gamma=0.7 ...............................................\n",
      "[CV] ................................ C=0.51, gamma=0.1, total=   0.0s\n",
      "[CV] C=0.51, gamma=0.2 ...............................................\n",
      "[CV] ................................ C=1.51, gamma=0.4, total=   0.0s\n",
      "[CV] ................................ C=1.51, gamma=0.8, total=   0.0s\n",
      "[CV] ................................ C=1.01, gamma=0.5, total=   0.0s\n",
      "[CV] C=1.51, gamma=0.4 ...............................................\n",
      "[CV] C=1.01, gamma=0.5 ...............................................\n",
      "[CV] C=1.51, gamma=0.8 ...............................................\n",
      "[CV] ................................ C=1.01, gamma=0.9, total=   0.0s\n",
      "[CV] ................................ C=0.01, gamma=0.7, total=   0.0s\n",
      "[CV] C=1.01, gamma=0.9 ...............................................\n",
      "[CV] C=0.01, gamma=0.7 ...............................................\n",
      "[CV] ................................ C=1.51, gamma=0.4, total=   0.0s\n",
      "[CV] C=1.51, gamma=0.4 ...............................................\n",
      "[CV] ................................ C=0.51, gamma=0.2, total=   0.0s\n",
      "[CV] ................................ C=1.01, gamma=0.5, total=   0.0s\n",
      "[CV] C=0.51, gamma=0.2 ...............................................\n",
      "[CV] C=1.01, gamma=0.6 ...............................................\n",
      "[CV] ................................ C=1.51, gamma=0.8, total=   0.0s\n",
      "[CV] C=1.51, gamma=0.8 ...............................................\n",
      "[CV] ................................ C=1.51, gamma=0.4, total=   0.0s\n",
      "[CV] C=1.51, gamma=0.5 ...............................................\n",
      "[CV] ................................ C=1.01, gamma=0.6, total=   0.0s\n",
      "[CV] ................................ C=0.01, gamma=0.7, total=   0.0s\n",
      "[CV] C=1.01, gamma=0.6 ...............................................\n",
      "[CV] ................................ C=1.01, gamma=0.9, total=   0.0s\n",
      "[CV] C=0.01, gamma=0.7 ...............................................\n",
      "[CV] C=1.51, gamma=0.0 ...............................................\n",
      "[CV] ................................ C=1.51, gamma=0.5, total=   0.0s\n",
      "[CV] C=1.51, gamma=0.5 ...............................................\n",
      "[CV] ................................ C=0.51, gamma=0.2, total=   0.0s\n"
     ]
    },
    {
     "name": "stdout",
     "output_type": "stream",
     "text": [
      "[CV] ................................ C=1.01, gamma=0.6, total=   0.0s\n",
      "[CV] C=0.51, gamma=0.2 ...............................................\n",
      "[CV] C=1.01, gamma=0.6 ...............................................\n",
      "[CV] ................................ C=1.51, gamma=0.8, total=   0.0s\n",
      "[CV] C=1.51, gamma=0.9 ...............................................\n",
      "[CV] ................................ C=1.51, gamma=0.5, total=   0.0s\n",
      "[CV] C=1.51, gamma=0.5 ...............................................\n",
      "[CV] ................................ C=0.51, gamma=0.2, total=   0.0s\n",
      "[CV] ................................ C=1.51, gamma=0.0, total=   0.0s\n",
      "[CV] ................................ C=0.01, gamma=0.7, total=   0.0s\n",
      "[CV] C=0.51, gamma=0.3 ...............................................\n",
      "[CV] ................................ C=1.01, gamma=0.6, total=   0.0s\n",
      "[CV] C=1.51, gamma=0.0 ...............................................\n",
      "[CV] C=0.01, gamma=0.8 ...............................................\n",
      "[CV] C=1.01, gamma=0.7 ...............................................\n",
      "[CV] ................................ C=1.51, gamma=0.5, total=   0.0s\n",
      "[CV] ................................ C=1.51, gamma=0.9, total=   0.0s\n",
      "[CV] C=1.51, gamma=0.9 ...............................................\n",
      "[CV] C=1.51, gamma=0.6 ...............................................\n",
      "[CV] ................................ C=0.51, gamma=0.3, total=   0.0s\n",
      "[CV] ................................ C=1.01, gamma=0.7, total=   0.0s\n",
      "[CV] C=0.51, gamma=0.3 ...............................................\n",
      "[CV] C=1.01, gamma=0.7 ...............................................\n",
      "[CV] ................................ C=0.01, gamma=0.8, total=   0.0s\n",
      "[CV] C=0.01, gamma=0.8 ...............................................\n",
      "[CV] ................................ C=1.51, gamma=0.6, total=   0.0s\n",
      "[CV] ................................ C=1.51, gamma=0.0, total=   0.0s\n",
      "[CV] C=1.51, gamma=0.6 ...............................................\n",
      "[CV] C=1.51, gamma=0.0 ...............................................\n",
      "[CV] ................................ C=1.51, gamma=0.9, total=   0.0s\n",
      "[CV] ................................ C=0.51, gamma=0.3, total=   0.0s\n",
      "[CV] ................................ C=1.01, gamma=0.7, total=   0.0s\n",
      "[CV] C=1.51, gamma=0.9 ...............................................\n",
      "[CV] C=0.51, gamma=0.3 ...............................................\n",
      "[CV] C=1.01, gamma=0.7 ...............................................\n",
      "[CV] ................................ C=1.51, gamma=0.6, total=   0.0s\n",
      "[CV] ................................ C=1.51, gamma=0.0, total=   0.0s\n",
      "[CV] C=1.51, gamma=0.6 ...............................................\n",
      "[CV] ................................ C=0.01, gamma=0.8, total=   0.0s\n",
      "[CV] ................................ C=0.51, gamma=0.3, total=   0.0s\n",
      "[CV] C=0.01, gamma=0.8 ...............................................\n",
      "[CV] C=1.51, gamma=0.1 ...............................................\n",
      "[CV] C=0.51, gamma=0.4 ...............................................\n",
      "[CV] ................................ C=1.01, gamma=0.7, total=   0.0s\n",
      "[CV] C=1.01, gamma=0.8 ...............................................\n",
      "[CV] ................................ C=1.51, gamma=0.9, total=   0.0s\n",
      "[CV] ................................ C=1.51, gamma=0.6, total=   0.0s\n",
      "[CV] C=2.01, gamma=0.0 ...............................................\n",
      "[CV] C=1.51, gamma=0.7 ...............................................\n",
      "[CV] ................................ C=1.51, gamma=0.1, total=   0.0s\n",
      "[CV] C=1.51, gamma=0.1 ...............................................\n",
      "[CV] ................................ C=0.01, gamma=0.8, total=   0.0s\n",
      "[CV] ................................ C=1.01, gamma=0.8, total=   0.0s\n",
      "[CV] C=0.01, gamma=0.9 ...............................................\n",
      "[CV] C=1.01, gamma=0.8 ...............................................\n",
      "[CV] ................................ C=0.51, gamma=0.4, total=   0.0s\n",
      "[CV] ................................ C=1.51, gamma=0.7, total=   0.0s\n",
      "[CV] C=1.51, gamma=0.7 ...............................................\n",
      "[CV] C=0.51, gamma=0.4 ...............................................\n",
      "[CV] ................................ C=1.51, gamma=0.1, total=   0.0s\n",
      "[CV] C=1.51, gamma=0.1 ...............................................\n",
      "[CV] ................................ C=2.01, gamma=0.0, total=   0.0s\n",
      "[CV] C=0.51, gamma=0.5 ...............................................\n",
      "[CV] ................................ C=1.01, gamma=0.8, total=   0.0s\n",
      "[CV] C=1.01, gamma=0.0 ...............................................\n",
      "[CV] C=2.01, gamma=0.0 ...............................................\n",
      "[CV] ................................ C=1.51, gamma=0.1, total=   0.0s\n",
      "[CV] C=1.51, gamma=0.2 ...............................................\n",
      "[CV] ................................ C=0.01, gamma=0.9, total=   0.0s\n",
      "[CV] ................................ C=1.01, gamma=0.0, total=   0.0s\n",
      "[CV] ................................ C=0.51, gamma=0.5, total=   0.0s\n",
      "[CV] C=1.01, gamma=0.0 ...............................................\n",
      "[CV] C=0.51, gamma=0.6 ...............................................\n",
      "[CV] ................................ C=2.01, gamma=0.0, total=   0.0s\n",
      "[CV] C=2.01, gamma=0.0 ...............................................\n",
      "[CV] ................................ C=1.51, gamma=0.2, total=   0.0s\n",
      "[CV] C=0.01, gamma=0.9 ...............................................\n",
      "[CV] C=1.51, gamma=0.2 ...............................................\n",
      "[CV] ................................ C=1.01, gamma=0.0, total=   0.0s\n",
      "[CV] ................................ C=0.51, gamma=0.6, total=   0.0s\n",
      "[CV] C=1.01, gamma=0.0 ...............................................\n",
      "[CV] C=0.51, gamma=0.6 ...............................................\n",
      "[CV] ................................ C=2.01, gamma=0.0, total=   0.0s\n",
      "[CV] C=2.01, gamma=0.1 ...............................................\n",
      "[CV] ................................ C=1.51, gamma=0.2, total=   0.0s\n",
      "[CV] ................................ C=1.01, gamma=0.0, total=   0.0s\n",
      "[CV] C=1.51, gamma=0.2 ...............................................\n",
      "[CV] C=1.01, gamma=0.1 ...............................................\n",
      "[CV] ................................ C=0.51, gamma=0.6, total=   0.0s\n",
      "[CV] C=0.51, gamma=0.6 ...............................................\n",
      "[CV] ................................ C=2.01, gamma=0.1, total=   0.0s\n",
      "[CV] C=2.01, gamma=0.1 ...............................................\n",
      "[CV] ................................ C=1.01, gamma=0.1, total=   0.0s\n",
      "[CV] C=1.01, gamma=0.1 ...............................................\n",
      "[CV] ................................ C=1.51, gamma=0.2, total=   0.0s\n",
      "[CV] C=1.51, gamma=0.3 ...............................................\n",
      "[CV] ................................ C=0.51, gamma=0.6, total=   0.0s\n",
      "[CV] C=0.51, gamma=0.7 ...............................................\n",
      "[CV] ................................ C=0.51, gamma=0.4, total=   0.0s\n",
      "[CV] ................................ C=2.01, gamma=0.1, total=   0.0s\n",
      "[CV] ................................ C=1.01, gamma=0.1, total=   0.0s\n",
      "[CV] C=2.01, gamma=0.1 ...............................................\n",
      "[CV] C=1.01, gamma=0.1 ...............................................\n",
      "[CV] ................................ C=0.01, gamma=0.9, total=   0.0s\n",
      "[CV] C=2.01, gamma=0.2 ...............................................\n",
      "[CV] ................................ C=1.51, gamma=0.3, total=   0.0s\n",
      "[CV] C=0.01, gamma=0.9 ...............................................\n",
      "[CV] ................................ C=0.51, gamma=0.7, total=   0.0s\n",
      "[CV] C=2.01, gamma=0.7 ...............................................\n",
      "[CV] ................................ C=1.01, gamma=0.1, total=   0.0s\n",
      "[CV] ................................ C=2.01, gamma=0.1, total=   0.0s\n",
      "[CV] C=0.51, gamma=0.7 ...............................................\n",
      "[CV] C=1.01, gamma=0.2 ...............................................\n",
      "[CV] C=2.01, gamma=0.2 ...............................................\n",
      "[CV] ................................ C=2.01, gamma=0.2, total=   0.0s\n",
      "[CV] C=2.01, gamma=0.3 ...............................................\n"
     ]
    },
    {
     "name": "stdout",
     "output_type": "stream",
     "text": [
      "[CV] ................................ C=1.01, gamma=0.2, total=   0.0s\n",
      "[CV] ................................ C=2.01, gamma=0.7, total=   0.0s\n",
      "[CV] ................................ C=2.01, gamma=0.2, total=   0.0s\n",
      "[CV] C=1.01, gamma=0.2 ...............................................\n",
      "[CV] ................................ C=0.51, gamma=0.7, total=   0.0s\n",
      "[CV] C=2.01, gamma=0.7 ...............................................\n",
      "[CV] ................................ C=0.01, gamma=0.9, total=   0.0s\n",
      "[CV] C=2.01, gamma=0.2 ...............................................\n",
      "[CV] C=0.51, gamma=0.7 ...............................................\n",
      "[CV] C=2.51, gamma=0.2 ...............................................\n",
      "[CV] ................................ C=1.51, gamma=0.7, total=   0.1s\n",
      "[CV] ................................ C=1.01, gamma=0.2, total=   0.0s\n",
      "[CV] ................................ C=2.01, gamma=0.3, total=   0.0s\n",
      "[CV] ................................ C=2.01, gamma=0.2, total=   0.0s\n",
      "[CV] C=1.01, gamma=0.2 ...............................................\n",
      "[CV] C=2.01, gamma=0.3 ...............................................\n",
      "[CV] ................................ C=2.01, gamma=0.7, total=   0.0s\n",
      "[CV] ................................ C=0.51, gamma=0.7, total=   0.0s\n",
      "[CV] C=2.51, gamma=0.6 ...............................................\n",
      "[CV] C=0.51, gamma=0.8 ...............................................\n",
      "[CV] C=2.01, gamma=0.8 ...............................................\n",
      "[CV] ................................ C=1.01, gamma=0.2, total=   0.0s\n",
      "[CV] C=1.01, gamma=0.3 ...............................................\n",
      "[CV] ................................ C=2.51, gamma=0.2, total=   0.0s\n",
      "[CV] C=2.51, gamma=0.2 ...............................................\n",
      "[CV] ................................ C=2.51, gamma=0.6, total=   0.0s\n",
      "[CV] ................................ C=0.51, gamma=0.8, total=   0.0s\n",
      "[CV] ................................ C=2.01, gamma=0.8, total=   0.0s\n",
      "[CV] C=0.51, gamma=0.8 ...............................................\n",
      "[CV] C=2.51, gamma=0.7 ...............................................\n",
      "[CV] C=2.01, gamma=0.8 ...............................................\n",
      "[CV] ................................ C=1.01, gamma=0.3, total=   0.0s\n",
      "[CV] C=1.01, gamma=0.3 ...............................................\n",
      "[CV] ................................ C=2.01, gamma=0.3, total=   0.0s\n",
      "[CV] C=2.01, gamma=0.3 ...............................................\n",
      "[CV] C=1.51, gamma=0.7 ...............................................\n",
      "[CV] ................................ C=2.51, gamma=0.7, total=   0.0s\n",
      "[CV] ................................ C=0.51, gamma=0.8, total=   0.0s\n",
      "[CV] ................................ C=1.01, gamma=0.3, total=   0.0s\n",
      "[CV] C=0.51, gamma=0.8 ...............................................\n",
      "[CV] ................................ C=2.01, gamma=0.8, total=   0.0s\n",
      "[CV] C=2.51, gamma=0.7 ...............................................\n",
      "[CV] C=1.01, gamma=0.3 ...............................................\n",
      "[CV] ................................ C=2.51, gamma=0.2, total=   0.0s\n",
      "[CV] C=2.01, gamma=0.8 ...............................................\n",
      "[CV] C=2.51, gamma=0.2 ...............................................\n",
      "[CV] ................................ C=2.01, gamma=0.3, total=   0.0s\n",
      "[CV] C=2.01, gamma=0.4 ...............................................\n",
      "[CV] ................................ C=1.01, gamma=0.3, total=   0.0s\n",
      "[CV] ................................ C=2.51, gamma=0.7, total=   0.0s\n",
      "[CV] ................................ C=0.51, gamma=0.8, total=   0.0s\n",
      "[CV] ................................ C=2.51, gamma=0.2, total=   0.0s\n",
      "[CV] C=2.51, gamma=0.7 ...............................................\n",
      "[CV] C=0.51, gamma=0.9 ...............................................\n",
      "[CV] C=3.01, gamma=0.1 ...............................................\n",
      "[CV] ................................ C=2.01, gamma=0.8, total=   0.0s\n",
      "[CV] C=2.51, gamma=0.3 ...............................................\n",
      "[CV] C=2.01, gamma=0.9 ...............................................\n",
      "[CV] ................................ C=1.51, gamma=0.7, total=   0.0s\n",
      "[CV] ................................ C=2.01, gamma=0.4, total=   0.0s\n",
      "[CV] C=2.01, gamma=0.4 ...............................................\n",
      "[CV] ................................ C=3.01, gamma=0.1, total=   0.0s\n",
      "[CV] C=3.01, gamma=0.1 ...............................................\n",
      "[CV] ................................ C=2.51, gamma=0.7, total=   0.0s\n",
      "[CV] ................................ C=2.51, gamma=0.3, total=   0.0s\n",
      "[CV] ................................ C=0.51, gamma=0.9, total=   0.0s\n",
      "[CV] C=2.51, gamma=0.8 ...............................................\n",
      "[CV] C=2.51, gamma=0.3 ...............................................\n",
      "[CV] ................................ C=2.01, gamma=0.9, total=   0.0s\n",
      "[CV] C=3.01, gamma=0.6 ...............................................\n",
      "[CV] C=2.01, gamma=0.9 ...............................................\n",
      "[CV] ................................ C=3.01, gamma=0.1, total=   0.0s\n",
      "[CV] ................................ C=2.01, gamma=0.4, total=   0.0s\n",
      "[CV] C=3.51, gamma=0.0 ...............................................\n",
      "[CV] C=3.51, gamma=0.5 ...............................................\n",
      "[CV] C=3.01, gamma=0.2 ...............................................\n",
      "[CV] C=2.01, gamma=0.4 ...............................................\n",
      "[CV] ................................ C=2.51, gamma=0.3, total=   0.0s\n",
      "[CV] ................................ C=2.51, gamma=0.8, total=   0.0s\n",
      "[CV] C=2.51, gamma=0.3 ...............................................\n",
      "[CV] C=2.51, gamma=0.8 ...............................................\n",
      "[CV] ................................ C=3.01, gamma=0.2, total=   0.0s\n",
      "[CV] C=3.01, gamma=0.2 ...............................................\n",
      "[CV] ................................ C=2.01, gamma=0.9, total=   0.0s\n",
      "[CV] ................................ C=3.51, gamma=0.5, total=   0.0s\n",
      "[CV] C=2.01, gamma=0.9 ...............................................\n",
      "[CV] ................................ C=2.01, gamma=0.4, total=   0.0s\n",
      "[CV] C=3.51, gamma=0.5 ...............................................\n",
      "[CV] C=2.01, gamma=0.5 ...............................................\n",
      "[CV] ................................ C=2.51, gamma=0.3, total=   0.0s\n",
      "[CV] ................................ C=3.51, gamma=0.0, total=   0.0s\n",
      "[CV] C=2.51, gamma=0.4 ...............................................\n",
      "[CV] C=3.51, gamma=0.1 ...............................................\n",
      "[CV] ................................ C=3.01, gamma=0.2, total=   0.0s\n",
      "[CV] C=3.01, gamma=0.2 ...............................................\n",
      "[CV] ................................ C=3.51, gamma=0.5, total=   0.0s\n",
      "[CV] C=3.51, gamma=0.6 ...............................................\n",
      "[CV] ................................ C=3.51, gamma=0.1, total=   0.0s\n",
      "[CV] ................................ C=3.01, gamma=0.6, total=   0.0s\n",
      "[CV] C=3.01, gamma=0.6 ...............................................\n",
      "[CV] C=3.51, gamma=0.1 ...............................................\n",
      "[CV] ................................ C=2.51, gamma=0.4, total=   0.0s\n",
      "[CV] C=2.51, gamma=0.4 ...............................................\n",
      "[CV] ................................ C=2.01, gamma=0.5, total=   0.0s\n",
      "[CV] C=2.01, gamma=0.5 ...............................................\n",
      "[CV] ................................ C=3.51, gamma=0.1, total=   0.0s\n",
      "[CV] C=3.51, gamma=0.1 ...............................................\n",
      "[CV] ................................ C=3.01, gamma=0.6, total=   0.0s\n",
      "[CV] ................................ C=3.01, gamma=0.2, total=   0.0s\n",
      "[CV] C=3.01, gamma=0.6 ...............................................\n",
      "[CV] C=3.01, gamma=0.3 ...............................................\n",
      "[CV] ................................ C=3.51, gamma=0.6, total=   0.0s\n",
      "[CV] ................................ C=3.51, gamma=0.1, total=   0.0s\n",
      "[CV] C=3.51, gamma=0.6 ...............................................\n",
      "[CV] C=3.51, gamma=0.2 ...............................................\n",
      "[CV] ................................ C=2.51, gamma=0.4, total=   0.0s\n"
     ]
    },
    {
     "name": "stdout",
     "output_type": "stream",
     "text": [
      "[CV] C=2.51, gamma=0.4 ...............................................\n",
      "[CV] ................................ C=3.01, gamma=0.6, total=   0.0s\n",
      "[CV] C=3.01, gamma=0.7 ...............................................\n",
      "[CV] ................................ C=3.51, gamma=0.2, total=   0.0s\n",
      "[CV] C=3.51, gamma=0.2 ...............................................\n",
      "[CV] ................................ C=3.01, gamma=0.3, total=   0.0s\n",
      "[CV] C=3.01, gamma=0.3 ...............................................\n",
      "[CV] ................................ C=2.01, gamma=0.5, total=   0.0s\n",
      "[CV] ................................ C=3.01, gamma=0.7, total=   0.0s\n",
      "[CV] ................................ C=2.51, gamma=0.4, total=   0.0s\n",
      "[CV] ................................ C=3.51, gamma=0.6, total=   0.0s\n",
      "[CV] C=3.01, gamma=0.7 ...............................................\n",
      "[CV] ................................ C=3.51, gamma=0.2, total=   0.0s\n",
      "[CV] C=2.01, gamma=0.5 ...............................................\n",
      "[CV] C=2.51, gamma=0.5 ...............................................\n",
      "[CV] C=3.51, gamma=0.6 ...............................................\n",
      "[CV] C=3.51, gamma=0.2 ...............................................\n",
      "[CV] ................................ C=3.01, gamma=0.3, total=   0.0s\n",
      "[CV] C=3.01, gamma=0.3 ...............................................\n",
      "[CV] ................................ C=3.51, gamma=0.2, total=   0.0s\n",
      "[CV] ................................ C=3.01, gamma=0.7, total=   0.0s\n",
      "[CV] C=3.51, gamma=0.3 ...............................................\n",
      "[CV] C=3.01, gamma=0.7 ...............................................\n",
      "[CV] ................................ C=3.51, gamma=0.6, total=   0.0s\n",
      "[CV] C=3.51, gamma=0.7 ...............................................\n",
      "[CV] ................................ C=2.01, gamma=0.5, total=   0.0s\n",
      "[CV] ................................ C=3.51, gamma=0.3, total=   0.0s\n",
      "[CV] ................................ C=2.51, gamma=0.5, total=   0.0s\n",
      "[CV] C=2.01, gamma=0.6 ...............................................\n",
      "[CV] C=3.51, gamma=0.3 ...............................................\n",
      "[CV] ................................ C=3.01, gamma=0.3, total=   0.0s\n",
      "[CV] ................................ C=3.01, gamma=0.7, total=   0.0s\n",
      "[CV] C=2.51, gamma=0.5 ...............................................\n",
      "[CV] C=3.01, gamma=0.4 ...............................................\n",
      "[CV] C=3.01, gamma=0.8 ...............................................\n",
      "[CV] ................................ C=3.51, gamma=0.7, total=   0.0s\n",
      "[CV] ................................ C=3.51, gamma=0.3, total=   0.0s\n",
      "[CV] C=3.51, gamma=0.7 ...............................................\n",
      "[CV] C=3.51, gamma=0.3 ...............................................\n",
      "[CV] ................................ C=2.51, gamma=0.5, total=   0.0s\n",
      "[CV] ................................ C=2.01, gamma=0.6, total=   0.0s\n",
      "[CV] ................................ C=3.01, gamma=0.8, total=   0.0s\n",
      "[CV] C=2.01, gamma=0.6 ...............................................\n",
      "[CV] C=3.01, gamma=0.8 ...............................................\n",
      "[CV] C=2.51, gamma=0.5 ...............................................\n",
      "[CV] ................................ C=3.01, gamma=0.4, total=   0.0s\n",
      "[CV] ................................ C=3.51, gamma=0.3, total=   0.0s\n",
      "[CV] C=3.01, gamma=0.4 ...............................................\n",
      "[CV] C=3.51, gamma=0.4 ...............................................\n",
      "[CV] ................................ C=3.51, gamma=0.7, total=   0.0s\n",
      "[CV] C=3.51, gamma=0.7 ...............................................\n",
      "[CV] ................................ C=3.01, gamma=0.8, total=   0.0s\n",
      "[CV] ................................ C=2.01, gamma=0.6, total=   0.0s\n",
      "[CV] C=3.01, gamma=0.8 ...............................................\n",
      "[CV] ................................ C=2.51, gamma=0.5, total=   0.0s\n",
      "[CV] C=2.01, gamma=0.6 ...............................................\n",
      "[CV] ................................ C=3.01, gamma=0.4, total=   0.0s\n",
      "[CV] ................................ C=3.51, gamma=0.4, total=   0.0s\n",
      "[CV] C=2.51, gamma=0.6 ...............................................\n",
      "[CV] C=3.01, gamma=0.4 ...............................................\n",
      "[CV] C=3.51, gamma=0.4 ...............................................\n",
      "[CV] ................................ C=2.51, gamma=0.8, total=   0.0s\n",
      "[CV] ................................ C=3.01, gamma=0.8, total=   0.0s\n",
      "[CV] ................................ C=3.51, gamma=0.4, total=   0.0s\n",
      "[CV] ................................ C=3.51, gamma=0.7, total=   0.0s\n",
      "[CV] ................................ C=2.51, gamma=0.6, total=   0.0s\n",
      "[CV] C=3.51, gamma=0.4 ...............................................\n",
      "[CV] C=3.01, gamma=0.9 ...............................................\n",
      "[CV] ................................ C=2.01, gamma=0.6, total=   0.0s\n",
      "[CV] C=3.51, gamma=0.8 ...............................................\n",
      "[CV] C=2.51, gamma=0.6 ...............................................\n",
      "[CV] ................................ C=3.01, gamma=0.4, total=   0.0s\n",
      "[CV] C=2.01, gamma=0.7 ...............................................\n",
      "[CV] C=3.01, gamma=0.5 ...............................................\n",
      "[CV] C=2.51, gamma=0.8 ...............................................\n",
      "[CV] ................................ C=3.51, gamma=0.4, total=   0.0s\n",
      "[CV] C=3.51, gamma=0.5 ...............................................\n",
      "[CV] ................................ C=3.01, gamma=0.9, total=   0.0s\n",
      "[CV] ................................ C=2.51, gamma=0.6, total=   0.0s\n",
      "[CV] C=3.01, gamma=0.9 ...............................................\n",
      "[CV] ................................ C=3.51, gamma=0.8, total=   0.0s\n",
      "[CV] ................................ C=2.01, gamma=0.7, total=   0.0s\n",
      "[CV] C=3.51, gamma=0.8 ...............................................\n",
      "[CV] ................................ C=3.01, gamma=0.5, total=   0.0s\n",
      "[CV] C=3.01, gamma=0.5 ...............................................\n",
      "[CV] C=4.01, gamma=0.0 ...............................................\n",
      "[CV] C=4.01, gamma=0.4 ...............................................\n",
      "[CV] ................................ C=3.51, gamma=0.5, total=   0.0s\n",
      "[CV] ................................ C=3.01, gamma=0.9, total=   0.0s\n",
      "[CV] C=4.01, gamma=0.9 ...............................................\n",
      "[CV] C=3.01, gamma=0.9 ...............................................\n",
      "[CV] ................................ C=4.01, gamma=0.0, total=   0.0s\n",
      "[CV] ................................ C=3.51, gamma=0.8, total=   0.0s\n",
      "[CV] C=4.01, gamma=0.0 ...............................................\n",
      "[CV] C=3.51, gamma=0.8 ...............................................\n",
      "[CV] ................................ C=4.01, gamma=0.4, total=   0.0s\n",
      "[CV] ................................ C=3.01, gamma=0.5, total=   0.0s\n",
      "[CV] C=4.01, gamma=0.5 ...............................................\n",
      "[CV] C=3.01, gamma=0.5 ...............................................\n",
      "[CV] ................................ C=4.01, gamma=0.9, total=   0.0s\n",
      "[CV] C=4.01, gamma=0.9 ...............................................\n",
      "[CV] ................................ C=3.01, gamma=0.9, total=   0.0s\n",
      "[CV] C=3.51, gamma=0.0 ...............................................\n",
      "[CV] ................................ C=4.01, gamma=0.0, total=   0.0s\n",
      "[CV] ................................ C=4.01, gamma=0.5, total=   0.0s\n",
      "[CV] C=4.01, gamma=0.0 ...............................................\n",
      "[CV] ................................ C=3.51, gamma=0.8, total=   0.0s\n",
      "[CV] ................................ C=3.01, gamma=0.5, total=   0.0s\n",
      "[CV] C=4.01, gamma=0.5 ...............................................\n",
      "[CV] C=3.51, gamma=0.9 ...............................................\n",
      "[CV] C=4.51, gamma=0.4 ...............................................\n",
      "[CV] ................................ C=3.51, gamma=0.0, total=   0.0s\n",
      "[CV] ................................ C=4.01, gamma=0.9, total=   0.0s\n",
      "[CV] C=3.51, gamma=0.0 ...............................................\n",
      "[CV] C=4.51, gamma=0.0 ...............................................\n",
      "[CV] ................................ C=4.01, gamma=0.5, total=   0.0s\n"
     ]
    },
    {
     "name": "stdout",
     "output_type": "stream",
     "text": [
      "[CV] ................................ C=2.01, gamma=0.9, total=   0.1s\n",
      "[CV] ................................ C=2.51, gamma=0.8, total=   0.0s\n",
      "[CV] C=4.01, gamma=0.5 ...............................................\n",
      "[CV] C=2.51, gamma=0.0 ...............................................\n",
      "[CV] C=2.51, gamma=0.9 ...............................................\n",
      "[CV] ................................ C=3.51, gamma=0.0, total=   0.0s\n",
      "[CV] ................................ C=3.51, gamma=0.9, total=   0.0s\n",
      "[CV] ................................ C=4.01, gamma=0.0, total=   0.0s\n",
      "[CV] C=3.51, gamma=0.9 ...............................................\n",
      "[CV] C=4.01, gamma=0.1 ...............................................\n",
      "[CV] C=4.51, gamma=0.8 ...............................................\n",
      "[CV] ................................ C=4.01, gamma=0.5, total=   0.0s\n",
      "[CV] ................................ C=2.51, gamma=0.0, total=   0.0s\n",
      "[CV] C=2.51, gamma=0.0 ...............................................\n",
      "[CV] C=4.01, gamma=0.6 ...............................................\n",
      "[CV] ................................ C=2.51, gamma=0.9, total=   0.0s\n",
      "[CV] ................................ C=4.51, gamma=0.0, total=   0.0s\n",
      "[CV] C=2.51, gamma=0.9 ...............................................\n",
      "[CV] C=4.51, gamma=0.0 ...............................................\n",
      "[CV] ................................ C=4.01, gamma=0.1, total=   0.0s\n",
      "[CV] ................................ C=2.51, gamma=0.0, total=   0.0s\n",
      "[CV] ................................ C=4.01, gamma=0.6, total=   0.0s\n",
      "[CV] C=4.01, gamma=0.1 ...............................................\n",
      "[CV] C=2.51, gamma=0.0 ...............................................\n",
      "[CV] C=4.01, gamma=0.6 ...............................................\n",
      "[CV] ................................ C=2.51, gamma=0.9, total=   0.0s\n",
      "[CV] ................................ C=3.51, gamma=0.9, total=   0.0s\n",
      "[CV] C=2.51, gamma=0.9 ...............................................\n",
      "[CV] C=3.51, gamma=0.9 ...............................................\n",
      "[CV] ................................ C=2.51, gamma=0.0, total=   0.0s\n",
      "[CV] ................................ C=4.51, gamma=0.0, total=   0.0s\n",
      "[CV] C=2.51, gamma=0.1 ...............................................\n",
      "[CV] C=4.51, gamma=0.0 ...............................................\n",
      "[CV] ................................ C=4.01, gamma=0.6, total=   0.0s\n",
      "[CV] C=4.01, gamma=0.6 ...............................................\n",
      "[CV] ................................ C=2.51, gamma=0.9, total=   0.0s\n",
      "[CV] ................................ C=2.51, gamma=0.1, total=   0.0s\n",
      "[CV] C=3.01, gamma=0.0 ...............................................\n",
      "[CV] C=2.51, gamma=0.1 ...............................................\n",
      "[CV] ................................ C=4.51, gamma=0.8, total=   0.0s\n",
      "[CV] ................................ C=4.01, gamma=0.6, total=   0.0s\n",
      "[CV] C=4.01, gamma=0.7 ...............................................\n",
      "[CV] C=4.51, gamma=0.9 ...............................................\n",
      "[CV] ................................ C=2.51, gamma=0.1, total=   0.0s\n",
      "[CV] ................................ C=4.51, gamma=0.0, total=   0.0s\n",
      "[CV] ................................ C=3.01, gamma=0.0, total=   0.0s\n",
      "[CV] C=2.51, gamma=0.1 ...............................................\n",
      "[CV] C=4.51, gamma=0.1 ...............................................\n",
      "[CV] C=3.01, gamma=0.0 ...............................................\n",
      "[CV] ................................ C=4.01, gamma=0.1, total=   0.0s\n",
      "[CV] C=4.01, gamma=0.1 ...............................................\n",
      "[CV] ................................ C=3.51, gamma=0.9, total=   0.0s\n",
      "[CV] ................................ C=4.01, gamma=0.7, total=   0.0s\n",
      "[CV] ................................ C=2.51, gamma=0.1, total=   0.0s\n",
      "[CV] C=4.01, gamma=0.7 ...............................................\n",
      "[CV] ................................ C=3.01, gamma=0.0, total=   0.0s\n",
      "[CV] C=3.01, gamma=0.0 ...............................................\n",
      "[CV] ................................ C=4.51, gamma=0.1, total=   0.0s\n",
      "[CV] C=4.51, gamma=0.1 ...............................................\n",
      "[CV] ................................ C=4.01, gamma=0.1, total=   0.0s\n",
      "[CV] ................................ C=4.51, gamma=0.4, total=   0.1s\n",
      "[CV] C=4.01, gamma=0.2 ...............................................\n",
      "[CV] ................................ C=4.01, gamma=0.7, total=   0.0s\n",
      "[CV] C=4.51, gamma=0.4 ...............................................\n",
      "[CV] ................................ C=4.51, gamma=0.9, total=   0.0s\n",
      "[CV] C=4.01, gamma=0.7 ...............................................\n",
      "[CV] C=4.51, gamma=0.9 ...............................................\n",
      "[CV] ................................ C=3.01, gamma=0.0, total=   0.0s\n",
      "[CV] C=3.01, gamma=0.1 ...............................................\n",
      "[CV] ................................ C=4.01, gamma=0.2, total=   0.0s\n",
      "[CV] C=4.01, gamma=0.2 ...............................................\n",
      "[CV] ................................ C=4.51, gamma=0.1, total=   0.0s\n",
      "[CV] ................................ C=3.01, gamma=0.1, total=   0.0s\n",
      "[CV] C=4.51, gamma=0.1 ...............................................\n",
      "[CV] ................................ C=4.51, gamma=0.4, total=   0.0s\n",
      "[CV] ................................ C=4.01, gamma=0.7, total=   0.0s\n",
      "[CV] C=4.51, gamma=0.4 ...............................................\n",
      "[CV] C=4.01, gamma=0.8 ...............................................\n",
      "[CV] ................................ C=4.51, gamma=0.9, total=   0.0s\n",
      "[CV] C=4.51, gamma=0.9 ...............................................\n",
      "[CV] ................................ C=4.51, gamma=0.1, total=   0.0s\n",
      "[CV] ................................ C=4.01, gamma=0.2, total=   0.0s\n",
      "[CV] C=4.51, gamma=0.2 ...............................................\n",
      "[CV] C=4.01, gamma=0.2 ...............................................\n",
      "[CV] ................................ C=4.51, gamma=0.4, total=   0.0s\n",
      "[CV] ................................ C=4.01, gamma=0.8, total=   0.0s\n",
      "[CV] C=4.51, gamma=0.5 ...............................................\n",
      "[CV] C=4.01, gamma=0.8 ...............................................\n",
      "[CV] ................................ C=4.51, gamma=0.2, total=   0.0s\n",
      "[CV] ................................ C=4.01, gamma=0.2, total=   0.0s\n",
      "[CV] ................................ C=4.51, gamma=0.9, total=   0.0s\n",
      "[CV] C=4.51, gamma=0.2 ...............................................\n",
      "[CV] C=4.01, gamma=0.3 ...............................................\n",
      "[CV] ................................ C=4.51, gamma=0.5, total=   0.0s\n",
      "[CV] ................................ C=4.01, gamma=0.8, total=   0.0s\n",
      "[CV] C=4.51, gamma=0.5 ...............................................\n",
      "[CV] ................................ C=4.51, gamma=0.2, total=   0.0s\n",
      "[CV] C=4.01, gamma=0.8 ...............................................\n",
      "[CV] ................................ C=4.01, gamma=0.3, total=   0.0s\n",
      "[CV] C=4.51, gamma=0.2 ...............................................\n",
      "[CV] C=4.01, gamma=0.3 ...............................................\n",
      "[CV] ................................ C=4.51, gamma=0.2, total=   0.0s\n",
      "[CV] ................................ C=4.51, gamma=0.5, total=   0.0s\n",
      "[CV] C=4.51, gamma=0.3 ...............................................\n",
      "[CV] ................................ C=4.01, gamma=0.8, total=   0.0s\n",
      "[CV] C=4.51, gamma=0.5 ...............................................\n",
      "[CV] ................................ C=4.01, gamma=0.3, total=   0.0s\n",
      "[CV] C=4.01, gamma=0.9 ...............................................\n",
      "[CV] C=4.01, gamma=0.3 ...............................................\n",
      "[CV] ................................ C=4.51, gamma=0.3, total=   0.0s\n",
      "[CV] C=4.51, gamma=0.3 ...............................................\n",
      "[CV] ................................ C=4.01, gamma=0.9, total=   0.0s\n",
      "[CV] ................................ C=4.51, gamma=0.5, total=   0.0s\n",
      "[CV] ................................ C=4.01, gamma=0.3, total=   0.0s\n",
      "[CV] C=4.51, gamma=0.6 ...............................................\n",
      "[CV] C=4.01, gamma=0.4 ...............................................\n"
     ]
    },
    {
     "name": "stdout",
     "output_type": "stream",
     "text": [
      "[CV] ................................ C=4.51, gamma=0.3, total=   0.0s\n",
      "[CV] C=4.51, gamma=0.3 ...............................................\n",
      "[CV] ................................ C=4.01, gamma=0.4, total=   0.0s\n",
      "[CV] ................................ C=4.51, gamma=0.6, total=   0.0s\n",
      "[CV] C=4.01, gamma=0.4 ...............................................\n",
      "[CV] C=4.51, gamma=0.6 ...............................................\n",
      "[CV] ................................ C=4.51, gamma=0.3, total=   0.0s\n",
      "[CV] ................................ C=4.01, gamma=0.4, total=   0.0s\n",
      "[CV] ................................ C=4.51, gamma=0.6, total=   0.0s\n",
      "[CV] C=4.51, gamma=0.6 ...............................................\n",
      "[CV] ................................ C=4.51, gamma=0.6, total=   0.0s\n",
      "[CV] C=4.51, gamma=0.7 ...............................................\n",
      "[CV] ................................ C=4.51, gamma=0.7, total=   0.0s\n",
      "[CV] C=4.51, gamma=0.7 ...............................................\n",
      "[CV] ................................ C=4.51, gamma=0.7, total=   0.0s\n",
      "[CV] C=4.51, gamma=0.7 ...............................................\n",
      "[CV] ................................ C=4.51, gamma=0.7, total=   0.0s\n",
      "[CV] C=4.51, gamma=0.8 ...............................................\n",
      "[CV] ................................ C=4.51, gamma=0.8, total=   0.0s\n",
      "[CV] C=4.51, gamma=0.8 ...............................................\n",
      "[CV] ................................ C=4.51, gamma=0.8, total=   0.0s\n"
     ]
    },
    {
     "name": "stderr",
     "output_type": "stream",
     "text": [
      "[Parallel(n_jobs=-1)]: Done 300 out of 300 | elapsed:    0.6s finished\n"
     ]
    },
    {
     "data": {
      "text/plain": [
       "GridSearchCV(cv=None, error_score='raise',\n",
       "       estimator=SVC(C=1.0, cache_size=200, class_weight=None, coef0=0.0,\n",
       "  decision_function_shape='ovr', degree=3, gamma='auto', kernel='rbf',\n",
       "  max_iter=-1, probability=False, random_state=None, shrinking=True,\n",
       "  tol=0.001, verbose=False),\n",
       "       fit_params=None, iid=True, n_jobs=-1,\n",
       "       param_grid={'C': array([ 0.01,  0.51,  1.01,  1.51,  2.01,  2.51,  3.01,  3.51,  4.01,  4.51]), 'gamma': array([ 0. ,  0.1,  0.2,  0.3,  0.4,  0.5,  0.6,  0.7,  0.8,  0.9])},\n",
       "       pre_dispatch='2*n_jobs', refit=True, return_train_score='warn',\n",
       "       scoring=None, verbose=2)"
      ]
     },
     "execution_count": 41,
     "metadata": {},
     "output_type": "execute_result"
    }
   ],
   "source": [
    "# Instantiate the model\n",
    "grid = GridSearchCV(svc, param_grid, verbose=2, n_jobs=-1)\n",
    "\n",
    "# Fit the model\n",
    "grid.fit(X_train, y_train)"
   ]
  },
  {
   "cell_type": "code",
   "execution_count": 42,
   "metadata": {},
   "outputs": [
    {
     "data": {
      "text/plain": [
       "{'C': 1.01, 'gamma': 0.30000000000000004}"
      ]
     },
     "execution_count": 42,
     "metadata": {},
     "output_type": "execute_result"
    }
   ],
   "source": [
    "grid.best_params_"
   ]
  },
  {
   "cell_type": "code",
   "execution_count": 43,
   "metadata": {},
   "outputs": [
    {
     "data": {
      "text/plain": [
       "SVC(C=1.01, cache_size=200, class_weight=None, coef0=0.0,\n",
       "  decision_function_shape='ovr', degree=3, gamma=0.30000000000000004,\n",
       "  kernel='rbf', max_iter=-1, probability=False, random_state=None,\n",
       "  shrinking=True, tol=0.001, verbose=False)"
      ]
     },
     "execution_count": 43,
     "metadata": {},
     "output_type": "execute_result"
    }
   ],
   "source": [
    "grid.best_estimator_"
   ]
  },
  {
   "cell_type": "code",
   "execution_count": 44,
   "metadata": {
    "collapsed": true
   },
   "outputs": [],
   "source": [
    "grid_predictions = grid.predict(X_test)"
   ]
  },
  {
   "cell_type": "code",
   "execution_count": 45,
   "metadata": {},
   "outputs": [
    {
     "name": "stdout",
     "output_type": "stream",
     "text": [
      "             precision    recall  f1-score   support\n",
      "\n",
      "          0       0.96      0.92      0.94       113\n",
      "          1       0.86      0.93      0.89        58\n",
      "\n",
      "avg / total       0.93      0.92      0.92       171\n",
      "\n",
      "\n",
      "\n",
      "[[104   9]\n",
      " [  4  54]]\n"
     ]
    }
   ],
   "source": [
    "print(classification_report(y_test, grid_predictions))\n",
    "print(\"\\n\")\n",
    "print(confusion_matrix(y_test, grid_predictions))"
   ]
  },
  {
   "cell_type": "markdown",
   "metadata": {},
   "source": [
    "# Let's compare it to a logreg"
   ]
  },
  {
   "cell_type": "code",
   "execution_count": 46,
   "metadata": {
    "collapsed": true
   },
   "outputs": [],
   "source": [
    "from sklearn.linear_model import LogisticRegression"
   ]
  },
  {
   "cell_type": "code",
   "execution_count": 47,
   "metadata": {
    "collapsed": true
   },
   "outputs": [],
   "source": [
    "logreg = LogisticRegression(random_state=25)\n",
    "\n",
    "logreg.fit(X_train, y_train)\n",
    "\n",
    "predictions = logreg.predict(X_test)"
   ]
  },
  {
   "cell_type": "code",
   "execution_count": 48,
   "metadata": {},
   "outputs": [
    {
     "name": "stdout",
     "output_type": "stream",
     "text": [
      "             precision    recall  f1-score   support\n",
      "\n",
      "          0       0.98      0.96      0.97       113\n",
      "          1       0.92      0.97      0.94        58\n",
      "\n",
      "avg / total       0.96      0.96      0.96       171\n",
      "\n",
      "\n",
      "\n",
      "[[108   5]\n",
      " [  2  56]]\n"
     ]
    }
   ],
   "source": [
    "print(classification_report(y_test, predictions))\n",
    "print(\"\\n\")\n",
    "print(confusion_matrix(y_test, predictions))"
   ]
  },
  {
   "cell_type": "markdown",
   "metadata": {},
   "source": [
    "# Check vs a normal logreg (no PCA) / with all the features\n"
   ]
  },
  {
   "cell_type": "code",
   "execution_count": 49,
   "metadata": {
    "collapsed": true
   },
   "outputs": [],
   "source": [
    "X = cancer.data\n",
    "y = cancer.target\n",
    "\n",
    "X_train, X_test, y_train, y_test = train_test_split(X, y, test_size=0.3, random_state=25)"
   ]
  },
  {
   "cell_type": "code",
   "execution_count": 50,
   "metadata": {
    "collapsed": true
   },
   "outputs": [],
   "source": [
    "logreg = LogisticRegression()\n",
    "\n",
    "logreg.fit(X_train, y_train)\n",
    "\n",
    "predictions = logreg.predict(X_test)"
   ]
  },
  {
   "cell_type": "code",
   "execution_count": 51,
   "metadata": {},
   "outputs": [
    {
     "name": "stdout",
     "output_type": "stream",
     "text": [
      "             precision    recall  f1-score   support\n",
      "\n",
      "          0       0.93      0.86      0.89        58\n",
      "          1       0.93      0.96      0.95       113\n",
      "\n",
      "avg / total       0.93      0.93      0.93       171\n",
      "\n",
      "\n",
      "\n",
      "[[ 50   8]\n",
      " [  4 109]]\n"
     ]
    }
   ],
   "source": [
    "print(classification_report(y_test, predictions))\n",
    "print(\"\\n\")\n",
    "print(confusion_matrix(y_test, predictions))"
   ]
  },
  {
   "cell_type": "markdown",
   "metadata": {},
   "source": [
    "# Using PCA with 2 variables makes an imporvement of 3% !"
   ]
  },
  {
   "cell_type": "code",
   "execution_count": 52,
   "metadata": {},
   "outputs": [
    {
     "name": "stdout",
     "output_type": "stream",
     "text": [
      "Fitting 3 folds for each of 20 candidates, totalling 60 fits\n",
      "[CV] C=1e-10, solver=newton-cg .......................................\n",
      "[CV] C=1e-10, solver=newton-cg .......................................\n",
      "[CV] C=1e-10, solver=newton-cg .......................................\n",
      "[CV] C=1e-09, solver=newton-cg .......................................\n",
      "[CV] C=1e-09, solver=newton-cg .......................................\n",
      "[CV] C=1e-08, solver=newton-cg .......................................\n",
      "[CV] C=1e-09, solver=newton-cg .......................................\n",
      "[CV] C=1e-08, solver=newton-cg .......................................\n",
      "[CV] ........................ C=1e-08, solver=newton-cg, total=   0.0s\n",
      "[CV] C=1e-08, solver=newton-cg .......................................\n",
      "[CV] ........................ C=1e-08, solver=newton-cg, total=   0.0s\n",
      "[CV] C=1e-07, solver=newton-cg .......................................\n",
      "[CV] ........................ C=1e-07, solver=newton-cg, total=   0.0s\n",
      "[CV] C=1e-07, solver=newton-cg .......................................\n",
      "[CV] ........................ C=1e-10, solver=newton-cg, total=   0.1s\n",
      "[CV] C=1e-07, solver=newton-cg .......................................\n",
      "[CV] ........................ C=1e-10, solver=newton-cg, total=   0.1s\n",
      "[CV] C=1e-06, solver=newton-cg .......................................\n",
      "[CV] ........................ C=1e-10, solver=newton-cg, total=   0.2s\n",
      "[CV] C=1e-06, solver=newton-cg .......................................\n",
      "[CV] ........................ C=1e-09, solver=newton-cg, total=   0.2s\n",
      "[CV] C=1e-06, solver=newton-cg .......................................\n",
      "[CV] C=1e-05, solver=newton-cg .......................................\n",
      "[CV] ........................ C=1e-09, solver=newton-cg, total=   0.2s\n"
     ]
    },
    {
     "name": "stderr",
     "output_type": "stream",
     "text": [
      "/Users/Rioux/anaconda3/lib/python3.6/site-packages/scipy/optimize/linesearch.py:285: LineSearchWarning: The line search algorithm did not converge\n",
      "  warn('The line search algorithm did not converge', LineSearchWarning)\n",
      "/Users/Rioux/anaconda3/lib/python3.6/site-packages/sklearn/utils/optimize.py:195: UserWarning: Line Search failed\n",
      "  warnings.warn('Line Search failed')\n"
     ]
    },
    {
     "name": "stdout",
     "output_type": "stream",
     "text": [
      "[CV] ........................ C=1e-09, solver=newton-cg, total=   0.2s\n",
      "[CV] C=1e-05, solver=newton-cg .......................................\n",
      "[CV] ........................ C=1e-08, solver=newton-cg, total=   0.2s\n",
      "[CV] C=0.001, solver=newton-cg .......................................\n",
      "[CV] ........................ C=1e-07, solver=newton-cg, total=   0.1s\n",
      "[CV] C=0.1, solver=newton-cg .........................................\n",
      "[CV] ........................ C=1e-06, solver=newton-cg, total=   0.2s\n",
      "[CV] C=10.0, solver=newton-cg ........................................\n",
      "[CV] ........................ C=1e-07, solver=newton-cg, total=   0.2s\n",
      "[CV] C=1000.0, solver=newton-cg ......................................\n",
      "[CV] ........................ C=1e-06, solver=newton-cg, total=   0.3s\n",
      "[CV] C=100000.0, solver=newton-cg ....................................\n",
      "[CV] ........................ C=1e-06, solver=newton-cg, total=   0.3s\n",
      "[CV] C=10000000.0, solver=newton-cg ..................................\n",
      "[CV] ........................ C=1e-05, solver=newton-cg, total=   0.4s\n",
      "[CV] C=1000000000.0, solver=newton-cg ................................\n",
      "[CV] ........................ C=1e-05, solver=newton-cg, total=   0.4s\n",
      "[CV] C=1e-05, solver=newton-cg .......................................\n",
      "[CV] ........................ C=0.001, solver=newton-cg, total=   0.4s\n",
      "[CV] C=0.001, solver=newton-cg .......................................\n"
     ]
    },
    {
     "name": "stderr",
     "output_type": "stream",
     "text": [
      "[Parallel(n_jobs=-1)]: Done  14 out of  60 | elapsed:    0.5s remaining:    1.6s\n",
      "/Users/Rioux/anaconda3/lib/python3.6/site-packages/sklearn/utils/optimize.py:203: ConvergenceWarning: newton-cg failed to converge. Increase the number of iterations.\n",
      "  \"number of iterations.\", ConvergenceWarning)\n"
     ]
    },
    {
     "name": "stdout",
     "output_type": "stream",
     "text": [
      "[CV] .......................... C=0.1, solver=newton-cg, total=   0.6s\n",
      "[CV] C=0.1, solver=newton-cg .........................................\n",
      "[CV] ..................... C=100000.0, solver=newton-cg, total=   0.4s\n",
      "[CV] C=100000.0, solver=newton-cg ....................................\n",
      "[CV] ........................ C=1e-05, solver=newton-cg, total=   0.3s\n",
      "[CV] C=0.0001, solver=newton-cg ......................................\n"
     ]
    },
    {
     "name": "stderr",
     "output_type": "stream",
     "text": [
      "/Users/Rioux/anaconda3/lib/python3.6/site-packages/sklearn/utils/optimize.py:203: ConvergenceWarning: newton-cg failed to converge. Increase the number of iterations.\n",
      "  \"number of iterations.\", ConvergenceWarning)\n"
     ]
    },
    {
     "name": "stdout",
     "output_type": "stream",
     "text": [
      "[CV] ......................... C=10.0, solver=newton-cg, total=   0.7s\n",
      "[CV] C=10.0, solver=newton-cg ........................................\n",
      "[CV] ........................ C=0.001, solver=newton-cg, total=   0.4s\n",
      "[CV] C=0.01, solver=newton-cg ........................................\n"
     ]
    },
    {
     "name": "stderr",
     "output_type": "stream",
     "text": [
      "/Users/Rioux/anaconda3/lib/python3.6/site-packages/sklearn/utils/optimize.py:203: ConvergenceWarning: newton-cg failed to converge. Increase the number of iterations.\n",
      "  \"number of iterations.\", ConvergenceWarning)\n"
     ]
    },
    {
     "name": "stdout",
     "output_type": "stream",
     "text": [
      "[CV] ................. C=1000000000.0, solver=newton-cg, total=   0.5s\n",
      "[CV] C=1000000000.0, solver=newton-cg ................................\n",
      "[CV] ....................... C=0.0001, solver=newton-cg, total=   0.3s\n",
      "[CV] C=0.0001, solver=newton-cg ......................................\n",
      "[CV] ......................... C=0.01, solver=newton-cg, total=   0.2s\n",
      "[CV] C=0.01, solver=newton-cg ........................................\n",
      "[CV] ....................... C=0.0001, solver=newton-cg, total=   0.1s\n",
      "[CV] ................... C=10000000.0, solver=newton-cg, total=   0.8s\n",
      "[CV] C=10000000.0, solver=newton-cg ..................................\n",
      "[CV] C=0.0001, solver=newton-cg ......................................\n"
     ]
    },
    {
     "name": "stderr",
     "output_type": "stream",
     "text": [
      "/Users/Rioux/anaconda3/lib/python3.6/site-packages/sklearn/utils/optimize.py:203: ConvergenceWarning: newton-cg failed to converge. Increase the number of iterations.\n",
      "  \"number of iterations.\", ConvergenceWarning)\n"
     ]
    },
    {
     "name": "stdout",
     "output_type": "stream",
     "text": [
      "[CV] ....................... C=1000.0, solver=newton-cg, total=   1.0s\n",
      "[CV] C=1000.0, solver=newton-cg ......................................\n",
      "[CV] .......................... C=0.1, solver=newton-cg, total=   0.6s\n",
      "[CV] C=1.0, solver=newton-cg .........................................\n",
      "[CV] ......................... C=10.0, solver=newton-cg, total=   0.7s\n",
      "[CV] C=100.0, solver=newton-cg .......................................\n",
      "[CV] ....................... C=0.0001, solver=newton-cg, total=   0.4s\n",
      "[CV] C=0.001, solver=newton-cg .......................................\n"
     ]
    },
    {
     "name": "stderr",
     "output_type": "stream",
     "text": [
      "/Users/Rioux/anaconda3/lib/python3.6/site-packages/sklearn/utils/optimize.py:203: ConvergenceWarning: newton-cg failed to converge. Increase the number of iterations.\n",
      "  \"number of iterations.\", ConvergenceWarning)\n"
     ]
    },
    {
     "name": "stdout",
     "output_type": "stream",
     "text": [
      "[CV] ................... C=10000000.0, solver=newton-cg, total=   0.4s\n",
      "[CV] C=100000000.0, solver=newton-cg .................................\n"
     ]
    },
    {
     "name": "stderr",
     "output_type": "stream",
     "text": [
      "/Users/Rioux/anaconda3/lib/python3.6/site-packages/sklearn/utils/optimize.py:203: ConvergenceWarning: newton-cg failed to converge. Increase the number of iterations.\n",
      "  \"number of iterations.\", ConvergenceWarning)\n"
     ]
    },
    {
     "name": "stdout",
     "output_type": "stream",
     "text": [
      "[CV] ..................... C=100000.0, solver=newton-cg, total=   1.0s\n",
      "[CV] C=1000000.0, solver=newton-cg ...................................\n",
      "[CV] ......................... C=0.01, solver=newton-cg, total=   0.6s\n",
      "[CV] C=0.01, solver=newton-cg ........................................\n"
     ]
    },
    {
     "name": "stderr",
     "output_type": "stream",
     "text": [
      "/Users/Rioux/anaconda3/lib/python3.6/site-packages/sklearn/utils/optimize.py:203: ConvergenceWarning: newton-cg failed to converge. Increase the number of iterations.\n",
      "  \"number of iterations.\", ConvergenceWarning)\n"
     ]
    },
    {
     "name": "stdout",
     "output_type": "stream",
     "text": [
      "[CV] ....................... C=1000.0, solver=newton-cg, total=   0.5s\n",
      "[CV] C=10000.0, solver=newton-cg .....................................\n"
     ]
    },
    {
     "name": "stderr",
     "output_type": "stream",
     "text": [
      "/Users/Rioux/anaconda3/lib/python3.6/site-packages/sklearn/utils/optimize.py:203: ConvergenceWarning: newton-cg failed to converge. Increase the number of iterations.\n",
      "  \"number of iterations.\", ConvergenceWarning)\n"
     ]
    },
    {
     "name": "stdout",
     "output_type": "stream",
     "text": [
      "[CV] ................. C=1000000000.0, solver=newton-cg, total=   0.8s\n",
      "[CV] .......................... C=1.0, solver=newton-cg, total=   0.5s\n",
      "[CV] C=1.0, solver=newton-cg .........................................\n",
      "[CV] ........................ C=0.001, solver=newton-cg, total=   0.3s\n",
      "[CV] .......................... C=1.0, solver=newton-cg, total=   0.2s\n",
      "[CV] C=1.0, solver=newton-cg .........................................\n",
      "[CV] ......................... C=0.01, solver=newton-cg, total=   0.4s\n",
      "[CV] C=0.1, solver=newton-cg .........................................\n"
     ]
    },
    {
     "name": "stderr",
     "output_type": "stream",
     "text": [
      "/Users/Rioux/anaconda3/lib/python3.6/site-packages/sklearn/utils/optimize.py:203: ConvergenceWarning: newton-cg failed to converge. Increase the number of iterations.\n",
      "  \"number of iterations.\", ConvergenceWarning)\n"
     ]
    },
    {
     "name": "stdout",
     "output_type": "stream",
     "text": [
      "[CV] ........................ C=100.0, solver=newton-cg, total=   0.6s\n",
      "[CV] C=100.0, solver=newton-cg .......................................\n"
     ]
    },
    {
     "name": "stderr",
     "output_type": "stream",
     "text": [
      "/Users/Rioux/anaconda3/lib/python3.6/site-packages/sklearn/utils/optimize.py:203: ConvergenceWarning: newton-cg failed to converge. Increase the number of iterations.\n",
      "  \"number of iterations.\", ConvergenceWarning)\n"
     ]
    },
    {
     "name": "stdout",
     "output_type": "stream",
     "text": [
      "[CV] .................. C=100000000.0, solver=newton-cg, total=   0.5s\n",
      "[CV] C=100000000.0, solver=newton-cg .................................\n"
     ]
    },
    {
     "name": "stderr",
     "output_type": "stream",
     "text": [
      "/Users/Rioux/anaconda3/lib/python3.6/site-packages/sklearn/utils/optimize.py:203: ConvergenceWarning: newton-cg failed to converge. Increase the number of iterations.\n",
      "  \"number of iterations.\", ConvergenceWarning)\n"
     ]
    },
    {
     "name": "stdout",
     "output_type": "stream",
     "text": [
      "[CV] .................... C=1000000.0, solver=newton-cg, total=   0.6s\n",
      "[CV] C=1000000.0, solver=newton-cg ...................................\n",
      "[CV] .......................... C=1.0, solver=newton-cg, total=   0.3s\n",
      "[CV] C=10.0, solver=newton-cg ........................................\n",
      "[CV] ........................ C=100.0, solver=newton-cg, total=   0.2s\n",
      "[CV] C=100.0, solver=newton-cg .......................................\n"
     ]
    },
    {
     "name": "stderr",
     "output_type": "stream",
     "text": [
      "/Users/Rioux/anaconda3/lib/python3.6/site-packages/sklearn/utils/optimize.py:203: ConvergenceWarning: newton-cg failed to converge. Increase the number of iterations.\n",
      "  \"number of iterations.\", ConvergenceWarning)\n"
     ]
    },
    {
     "name": "stdout",
     "output_type": "stream",
     "text": [
      "[CV] ...................... C=10000.0, solver=newton-cg, total=   0.6s\n",
      "[CV] C=10000.0, solver=newton-cg .....................................\n",
      "[CV] .......................... C=0.1, solver=newton-cg, total=   0.5s\n",
      "[CV] .................. C=100000000.0, solver=newton-cg, total=   0.5s\n",
      "[CV] C=100000000.0, solver=newton-cg .................................\n",
      "[CV] ......................... C=10.0, solver=newton-cg, total=   0.4s\n",
      "[CV] .................... C=1000000.0, solver=newton-cg, total=   0.5s\n",
      "[CV] C=1000000.0, solver=newton-cg ...................................\n"
     ]
    },
    {
     "name": "stderr",
     "output_type": "stream",
     "text": [
      "/Users/Rioux/anaconda3/lib/python3.6/site-packages/sklearn/utils/optimize.py:203: ConvergenceWarning: newton-cg failed to converge. Increase the number of iterations.\n",
      "  \"number of iterations.\", ConvergenceWarning)\n"
     ]
    },
    {
     "name": "stdout",
     "output_type": "stream",
     "text": [
      "[CV] ...................... C=10000.0, solver=newton-cg, total=   0.5s\n",
      "[CV] C=10000.0, solver=newton-cg .....................................\n",
      "[CV] ........................ C=100.0, solver=newton-cg, total=   0.5s\n",
      "[CV] C=1000.0, solver=newton-cg ......................................\n"
     ]
    },
    {
     "name": "stderr",
     "output_type": "stream",
     "text": [
      "/Users/Rioux/anaconda3/lib/python3.6/site-packages/sklearn/utils/optimize.py:203: ConvergenceWarning: newton-cg failed to converge. Increase the number of iterations.\n",
      "  \"number of iterations.\", ConvergenceWarning)\n"
     ]
    },
    {
     "name": "stdout",
     "output_type": "stream",
     "text": [
      "[CV] .................... C=1000000.0, solver=newton-cg, total=   0.2s\n",
      "[CV] C=10000000.0, solver=newton-cg ..................................\n"
     ]
    },
    {
     "name": "stderr",
     "output_type": "stream",
     "text": [
      "/Users/Rioux/anaconda3/lib/python3.6/site-packages/sklearn/utils/optimize.py:203: ConvergenceWarning: newton-cg failed to converge. Increase the number of iterations.\n",
      "  \"number of iterations.\", ConvergenceWarning)\n"
     ]
    },
    {
     "name": "stdout",
     "output_type": "stream",
     "text": [
      "[CV] .................. C=100000000.0, solver=newton-cg, total=   0.5s\n",
      "[CV] C=1000000000.0, solver=newton-cg ................................\n"
     ]
    },
    {
     "name": "stderr",
     "output_type": "stream",
     "text": [
      "/Users/Rioux/anaconda3/lib/python3.6/site-packages/sklearn/utils/optimize.py:203: ConvergenceWarning: newton-cg failed to converge. Increase the number of iterations.\n",
      "  \"number of iterations.\", ConvergenceWarning)\n"
     ]
    },
    {
     "name": "stdout",
     "output_type": "stream",
     "text": [
      "[CV] ....................... C=1000.0, solver=newton-cg, total=   0.3s\n"
     ]
    },
    {
     "name": "stderr",
     "output_type": "stream",
     "text": [
      "/Users/Rioux/anaconda3/lib/python3.6/site-packages/sklearn/utils/optimize.py:203: ConvergenceWarning: newton-cg failed to converge. Increase the number of iterations.\n",
      "  \"number of iterations.\", ConvergenceWarning)\n",
      "/Users/Rioux/anaconda3/lib/python3.6/site-packages/sklearn/utils/optimize.py:203: ConvergenceWarning: newton-cg failed to converge. Increase the number of iterations.\n",
      "  \"number of iterations.\", ConvergenceWarning)\n"
     ]
    },
    {
     "name": "stdout",
     "output_type": "stream",
     "text": [
      "[CV] ...................... C=10000.0, solver=newton-cg, total=   0.4s\n",
      "[CV] C=100000.0, solver=newton-cg ....................................\n",
      "[CV] ................... C=10000000.0, solver=newton-cg, total=   0.3s\n"
     ]
    },
    {
     "name": "stderr",
     "output_type": "stream",
     "text": [
      "/Users/Rioux/anaconda3/lib/python3.6/site-packages/sklearn/utils/optimize.py:203: ConvergenceWarning: newton-cg failed to converge. Increase the number of iterations.\n",
      "  \"number of iterations.\", ConvergenceWarning)\n"
     ]
    },
    {
     "name": "stdout",
     "output_type": "stream",
     "text": [
      "[CV] ................. C=1000000000.0, solver=newton-cg, total=   0.3s\n"
     ]
    },
    {
     "name": "stderr",
     "output_type": "stream",
     "text": [
      "/Users/Rioux/anaconda3/lib/python3.6/site-packages/sklearn/utils/optimize.py:203: ConvergenceWarning: newton-cg failed to converge. Increase the number of iterations.\n",
      "  \"number of iterations.\", ConvergenceWarning)\n"
     ]
    },
    {
     "name": "stdout",
     "output_type": "stream",
     "text": [
      "[CV] ..................... C=100000.0, solver=newton-cg, total=   0.1s\n"
     ]
    },
    {
     "name": "stderr",
     "output_type": "stream",
     "text": [
      "[Parallel(n_jobs=-1)]: Done  60 out of  60 | elapsed:    3.6s finished\n",
      "/Users/Rioux/anaconda3/lib/python3.6/site-packages/sklearn/utils/optimize.py:203: ConvergenceWarning: newton-cg failed to converge. Increase the number of iterations.\n",
      "  \"number of iterations.\", ConvergenceWarning)\n"
     ]
    },
    {
     "data": {
      "text/plain": [
       "GridSearchCV(cv=None, error_score='raise',\n",
       "       estimator=LogisticRegression(C=1.0, class_weight=None, dual=False, fit_intercept=True,\n",
       "          intercept_scaling=1, max_iter=100, multi_class='ovr', n_jobs=1,\n",
       "          penalty='l2', random_state=None, solver='liblinear', tol=0.0001,\n",
       "          verbose=0, warm_start=False),\n",
       "       fit_params=None, iid=True, n_jobs=-1,\n",
       "       param_grid={'C': array([  1.00000e-10,   1.00000e-09,   1.00000e-08,   1.00000e-07,\n",
       "         1.00000e-06,   1.00000e-05,   1.00000e-04,   1.00000e-03,\n",
       "         1.00000e-02,   1.00000e-01,   1.00000e+00,   1.00000e+01,\n",
       "         1.00000e+02,   1.00000e+03,   1.00000e+04,   1.00000e+05,\n",
       "         1.00000e+06,   1.00000e+07,   1.00000e+08,   1.00000e+09]), 'solver': ['newton-cg']},\n",
       "       pre_dispatch='2*n_jobs', refit=True, return_train_score='warn',\n",
       "       scoring=None, verbose=2)"
      ]
     },
     "execution_count": 52,
     "metadata": {},
     "output_type": "execute_result"
    }
   ],
   "source": [
    "param_grid = {'C': np.power(10.0, np.arange(-10, 10)), 'solver': ['newton-cg']}\n",
    "# Instantiate the model\n",
    "grid = GridSearchCV(logreg, param_grid, verbose=2, n_jobs=-1)\n",
    "\n",
    "# Fit the model\n",
    "grid.fit(X_train, y_train)"
   ]
  },
  {
   "cell_type": "code",
   "execution_count": 53,
   "metadata": {},
   "outputs": [
    {
     "data": {
      "text/plain": [
       "{'C': 100.0, 'solver': 'newton-cg'}"
      ]
     },
     "execution_count": 53,
     "metadata": {},
     "output_type": "execute_result"
    }
   ],
   "source": [
    "grid.best_params_"
   ]
  },
  {
   "cell_type": "code",
   "execution_count": 54,
   "metadata": {},
   "outputs": [
    {
     "data": {
      "text/plain": [
       "LogisticRegression(C=100.0, class_weight=None, dual=False, fit_intercept=True,\n",
       "          intercept_scaling=1, max_iter=100, multi_class='ovr', n_jobs=1,\n",
       "          penalty='l2', random_state=None, solver='newton-cg', tol=0.0001,\n",
       "          verbose=0, warm_start=False)"
      ]
     },
     "execution_count": 54,
     "metadata": {},
     "output_type": "execute_result"
    }
   ],
   "source": [
    "grid.best_estimator_"
   ]
  },
  {
   "cell_type": "code",
   "execution_count": 55,
   "metadata": {
    "collapsed": true
   },
   "outputs": [],
   "source": [
    "grid_pred = grid.predict(X_test)"
   ]
  },
  {
   "cell_type": "code",
   "execution_count": 56,
   "metadata": {},
   "outputs": [
    {
     "name": "stdout",
     "output_type": "stream",
     "text": [
      "             precision    recall  f1-score   support\n",
      "\n",
      "          0       0.94      0.88      0.91        58\n",
      "          1       0.94      0.97      0.96       113\n",
      "\n",
      "avg / total       0.94      0.94      0.94       171\n",
      "\n",
      "\n",
      "\n",
      "[[ 51   7]\n",
      " [  3 110]]\n"
     ]
    }
   ],
   "source": [
    "print(classification_report(y_test, grid_pred))\n",
    "print(\"\\n\")\n",
    "print(confusion_matrix(y_test, grid_pred))"
   ]
  }
 ],
 "metadata": {
  "kernelspec": {
   "display_name": "Python 3",
   "language": "python",
   "name": "python3"
  },
  "language_info": {
   "codemirror_mode": {
    "name": "ipython",
    "version": 3
   },
   "file_extension": ".py",
   "mimetype": "text/x-python",
   "name": "python",
   "nbconvert_exporter": "python",
   "pygments_lexer": "ipython3",
   "version": "3.6.3"
  }
 },
 "nbformat": 4,
 "nbformat_minor": 1
}
